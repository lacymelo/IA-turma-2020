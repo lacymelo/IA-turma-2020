{
 "cells": [
  {
   "cell_type": "markdown",
   "metadata": {},
   "source": [
    "**Universidade Federal do Pará**\n",
    "\n",
    "**Mestrado em Computação Aplicada PPCA/Tucuruí**\n",
    "\n",
    "**Disciplina: Inteligência Artificial**\n",
    "\n",
    "Laciene Alves Melo\n",
    "\n",
    "---\n",
    "\n",
    "> Objetivo: Aplicar modelos para prever se o crédito do cliente deve ou não ser aprovado"
   ]
  },
  {
   "cell_type": "code",
   "execution_count": 178,
   "metadata": {},
   "outputs": [],
   "source": [
    "import pandas as pd\n",
    "from sklearn.preprocessing import LabelEncoder\n",
    "from sklearn.metrics import classification_report\n",
    "from sklearn.model_selection import train_test_split\n",
    "# KNN\n",
    "from sklearn.neighbors import KNeighborsClassifier\n",
    "# matriz de confusão\n",
    "from sklearn.metrics import confusion_matrix, accuracy_score, classification_report, ConfusionMatrixDisplay\n",
    "# Random Forest\n",
    "from sklearn.ensemble import RandomForestClassifier\n",
    "# SVM\n",
    "from sklearn.svm import SVC\n",
    "# Árvore de Decisão\n",
    "from sklearn.tree import DecisionTreeClassifier\n",
    "# RNA\n",
    "from tensorflow.keras.models import Sequential\n",
    "from tensorflow.keras.layers import Dense\n",
    "from tensorflow.keras.optimizers import Adam\n"
   ]
  },
  {
   "cell_type": "code",
   "execution_count": 179,
   "metadata": {},
   "outputs": [
    {
     "data": {
      "text/html": [
       "<div>\n",
       "<style scoped>\n",
       "    .dataframe tbody tr th:only-of-type {\n",
       "        vertical-align: middle;\n",
       "    }\n",
       "\n",
       "    .dataframe tbody tr th {\n",
       "        vertical-align: top;\n",
       "    }\n",
       "\n",
       "    .dataframe thead th {\n",
       "        text-align: right;\n",
       "    }\n",
       "</style>\n",
       "<table border=\"1\" class=\"dataframe\">\n",
       "  <thead>\n",
       "    <tr style=\"text-align: right;\">\n",
       "      <th></th>\n",
       "      <th>score</th>\n",
       "      <th>state</th>\n",
       "      <th>gender</th>\n",
       "      <th>age</th>\n",
       "      <th>patrimony</th>\n",
       "      <th>balance</th>\n",
       "      <th>products</th>\n",
       "      <th>credit_card</th>\n",
       "      <th>active</th>\n",
       "      <th>approved_credit</th>\n",
       "    </tr>\n",
       "  </thead>\n",
       "  <tbody>\n",
       "    <tr>\n",
       "      <th>0</th>\n",
       "      <td>619</td>\n",
       "      <td>RS</td>\n",
       "      <td>F</td>\n",
       "      <td>42</td>\n",
       "      <td>2</td>\n",
       "      <td>0</td>\n",
       "      <td>1</td>\n",
       "      <td>1</td>\n",
       "      <td>1</td>\n",
       "      <td>1</td>\n",
       "    </tr>\n",
       "    <tr>\n",
       "      <th>1</th>\n",
       "      <td>608</td>\n",
       "      <td>SC</td>\n",
       "      <td>F</td>\n",
       "      <td>41</td>\n",
       "      <td>1</td>\n",
       "      <td>8380786</td>\n",
       "      <td>1</td>\n",
       "      <td>0</td>\n",
       "      <td>1</td>\n",
       "      <td>0</td>\n",
       "    </tr>\n",
       "    <tr>\n",
       "      <th>2</th>\n",
       "      <td>502</td>\n",
       "      <td>RS</td>\n",
       "      <td>F</td>\n",
       "      <td>42</td>\n",
       "      <td>8</td>\n",
       "      <td>1596608</td>\n",
       "      <td>3</td>\n",
       "      <td>1</td>\n",
       "      <td>0</td>\n",
       "      <td>1</td>\n",
       "    </tr>\n",
       "    <tr>\n",
       "      <th>3</th>\n",
       "      <td>699</td>\n",
       "      <td>RS</td>\n",
       "      <td>F</td>\n",
       "      <td>39</td>\n",
       "      <td>1</td>\n",
       "      <td>0</td>\n",
       "      <td>2</td>\n",
       "      <td>0</td>\n",
       "      <td>0</td>\n",
       "      <td>0</td>\n",
       "    </tr>\n",
       "    <tr>\n",
       "      <th>4</th>\n",
       "      <td>850</td>\n",
       "      <td>SC</td>\n",
       "      <td>F</td>\n",
       "      <td>43</td>\n",
       "      <td>2</td>\n",
       "      <td>12551082</td>\n",
       "      <td>1</td>\n",
       "      <td>1</td>\n",
       "      <td>1</td>\n",
       "      <td>0</td>\n",
       "    </tr>\n",
       "    <tr>\n",
       "      <th>...</th>\n",
       "      <td>...</td>\n",
       "      <td>...</td>\n",
       "      <td>...</td>\n",
       "      <td>...</td>\n",
       "      <td>...</td>\n",
       "      <td>...</td>\n",
       "      <td>...</td>\n",
       "      <td>...</td>\n",
       "      <td>...</td>\n",
       "      <td>...</td>\n",
       "    </tr>\n",
       "    <tr>\n",
       "      <th>994</th>\n",
       "      <td>838</td>\n",
       "      <td>SC</td>\n",
       "      <td>M</td>\n",
       "      <td>43</td>\n",
       "      <td>9</td>\n",
       "      <td>12310588</td>\n",
       "      <td>2</td>\n",
       "      <td>1</td>\n",
       "      <td>0</td>\n",
       "      <td>0</td>\n",
       "    </tr>\n",
       "    <tr>\n",
       "      <th>995</th>\n",
       "      <td>610</td>\n",
       "      <td>SC</td>\n",
       "      <td>M</td>\n",
       "      <td>29</td>\n",
       "      <td>9</td>\n",
       "      <td>0</td>\n",
       "      <td>3</td>\n",
       "      <td>0</td>\n",
       "      <td>1</td>\n",
       "      <td>0</td>\n",
       "    </tr>\n",
       "    <tr>\n",
       "      <th>996</th>\n",
       "      <td>811</td>\n",
       "      <td>SC</td>\n",
       "      <td>M</td>\n",
       "      <td>44</td>\n",
       "      <td>3</td>\n",
       "      <td>0</td>\n",
       "      <td>2</td>\n",
       "      <td>0</td>\n",
       "      <td>1</td>\n",
       "      <td>0</td>\n",
       "    </tr>\n",
       "    <tr>\n",
       "      <th>997</th>\n",
       "      <td>587</td>\n",
       "      <td>SC</td>\n",
       "      <td>M</td>\n",
       "      <td>62</td>\n",
       "      <td>7</td>\n",
       "      <td>12128627</td>\n",
       "      <td>1</td>\n",
       "      <td>0</td>\n",
       "      <td>1</td>\n",
       "      <td>0</td>\n",
       "    </tr>\n",
       "    <tr>\n",
       "      <th>998</th>\n",
       "      <td>811</td>\n",
       "      <td>PR</td>\n",
       "      <td>F</td>\n",
       "      <td>28</td>\n",
       "      <td>4</td>\n",
       "      <td>16773882</td>\n",
       "      <td>2</td>\n",
       "      <td>1</td>\n",
       "      <td>1</td>\n",
       "      <td>0</td>\n",
       "    </tr>\n",
       "  </tbody>\n",
       "</table>\n",
       "<p>999 rows × 10 columns</p>\n",
       "</div>"
      ],
      "text/plain": [
       "     score state gender  age  patrimony   balance  products  credit_card  \\\n",
       "0      619    RS      F   42          2         0         1            1   \n",
       "1      608    SC      F   41          1   8380786         1            0   \n",
       "2      502    RS      F   42          8   1596608         3            1   \n",
       "3      699    RS      F   39          1         0         2            0   \n",
       "4      850    SC      F   43          2  12551082         1            1   \n",
       "..     ...   ...    ...  ...        ...       ...       ...          ...   \n",
       "994    838    SC      M   43          9  12310588         2            1   \n",
       "995    610    SC      M   29          9         0         3            0   \n",
       "996    811    SC      M   44          3         0         2            0   \n",
       "997    587    SC      M   62          7  12128627         1            0   \n",
       "998    811    PR      F   28          4  16773882         2            1   \n",
       "\n",
       "     active  approved_credit  \n",
       "0         1                1  \n",
       "1         1                0  \n",
       "2         0                1  \n",
       "3         0                0  \n",
       "4         1                0  \n",
       "..      ...              ...  \n",
       "994       0                0  \n",
       "995       1                0  \n",
       "996       1                0  \n",
       "997       1                0  \n",
       "998       1                0  \n",
       "\n",
       "[999 rows x 10 columns]"
      ]
     },
     "execution_count": 179,
     "metadata": {},
     "output_type": "execute_result"
    }
   ],
   "source": [
    "# carregando a base de dados\n",
    "dataset = pd.read_csv('../dataset/normalized.csv')\n",
    "dataset"
   ]
  },
  {
   "cell_type": "code",
   "execution_count": 180,
   "metadata": {},
   "outputs": [],
   "source": [
    "# transformação de dados codificação de variáveis categóricas\n",
    "# cols = ['score','state', 'gender', 'age', 'patrimony', 'balance', 'products', 'credit_card', 'active']\n",
    "cols = ['score','state', 'gender', 'age', 'patrimony', 'balance', 'products', 'credit_card', 'active']\n",
    "\n",
    "# Importe o LabelEncoder\n",
    "le = LabelEncoder()\n",
    "\n",
    "# Iterar sobre as colunas categóricas e aplicar o LabelEncoder a cada uma delas\n",
    "for col in cols:\n",
    "    dataset[col] = le.fit_transform(dataset[col])"
   ]
  },
  {
   "cell_type": "code",
   "execution_count": 181,
   "metadata": {},
   "outputs": [],
   "source": [
    "# previsores\n",
    "X = dataset\n",
    "X = X.drop(columns=['approved_credit'])\n",
    "# X"
   ]
  },
  {
   "cell_type": "code",
   "execution_count": 182,
   "metadata": {},
   "outputs": [],
   "source": [
    "# classe de saída\n",
    "y = dataset['approved_credit']"
   ]
  },
  {
   "cell_type": "markdown",
   "metadata": {},
   "source": [
    "# Dividindo a base de dados em treino e teste"
   ]
  },
  {
   "cell_type": "code",
   "execution_count": 183,
   "metadata": {},
   "outputs": [],
   "source": [
    "# dividindo a base de dados em treino e teste, 20% para teste\n",
    "X_train, X_test, y_train, y_test = train_test_split(X, y, test_size=0.2, random_state=42, stratify=y)"
   ]
  },
  {
   "cell_type": "markdown",
   "metadata": {},
   "source": [
    "# Modelo KNN"
   ]
  },
  {
   "cell_type": "code",
   "execution_count": 184,
   "metadata": {},
   "outputs": [
    {
     "data": {
      "text/html": [
       "<style>#sk-container-id-20 {color: black;}#sk-container-id-20 pre{padding: 0;}#sk-container-id-20 div.sk-toggleable {background-color: white;}#sk-container-id-20 label.sk-toggleable__label {cursor: pointer;display: block;width: 100%;margin-bottom: 0;padding: 0.3em;box-sizing: border-box;text-align: center;}#sk-container-id-20 label.sk-toggleable__label-arrow:before {content: \"▸\";float: left;margin-right: 0.25em;color: #696969;}#sk-container-id-20 label.sk-toggleable__label-arrow:hover:before {color: black;}#sk-container-id-20 div.sk-estimator:hover label.sk-toggleable__label-arrow:before {color: black;}#sk-container-id-20 div.sk-toggleable__content {max-height: 0;max-width: 0;overflow: hidden;text-align: left;background-color: #f0f8ff;}#sk-container-id-20 div.sk-toggleable__content pre {margin: 0.2em;color: black;border-radius: 0.25em;background-color: #f0f8ff;}#sk-container-id-20 input.sk-toggleable__control:checked~div.sk-toggleable__content {max-height: 200px;max-width: 100%;overflow: auto;}#sk-container-id-20 input.sk-toggleable__control:checked~label.sk-toggleable__label-arrow:before {content: \"▾\";}#sk-container-id-20 div.sk-estimator input.sk-toggleable__control:checked~label.sk-toggleable__label {background-color: #d4ebff;}#sk-container-id-20 div.sk-label input.sk-toggleable__control:checked~label.sk-toggleable__label {background-color: #d4ebff;}#sk-container-id-20 input.sk-hidden--visually {border: 0;clip: rect(1px 1px 1px 1px);clip: rect(1px, 1px, 1px, 1px);height: 1px;margin: -1px;overflow: hidden;padding: 0;position: absolute;width: 1px;}#sk-container-id-20 div.sk-estimator {font-family: monospace;background-color: #f0f8ff;border: 1px dotted black;border-radius: 0.25em;box-sizing: border-box;margin-bottom: 0.5em;}#sk-container-id-20 div.sk-estimator:hover {background-color: #d4ebff;}#sk-container-id-20 div.sk-parallel-item::after {content: \"\";width: 100%;border-bottom: 1px solid gray;flex-grow: 1;}#sk-container-id-20 div.sk-label:hover label.sk-toggleable__label {background-color: #d4ebff;}#sk-container-id-20 div.sk-serial::before {content: \"\";position: absolute;border-left: 1px solid gray;box-sizing: border-box;top: 0;bottom: 0;left: 50%;z-index: 0;}#sk-container-id-20 div.sk-serial {display: flex;flex-direction: column;align-items: center;background-color: white;padding-right: 0.2em;padding-left: 0.2em;position: relative;}#sk-container-id-20 div.sk-item {position: relative;z-index: 1;}#sk-container-id-20 div.sk-parallel {display: flex;align-items: stretch;justify-content: center;background-color: white;position: relative;}#sk-container-id-20 div.sk-item::before, #sk-container-id-20 div.sk-parallel-item::before {content: \"\";position: absolute;border-left: 1px solid gray;box-sizing: border-box;top: 0;bottom: 0;left: 50%;z-index: -1;}#sk-container-id-20 div.sk-parallel-item {display: flex;flex-direction: column;z-index: 1;position: relative;background-color: white;}#sk-container-id-20 div.sk-parallel-item:first-child::after {align-self: flex-end;width: 50%;}#sk-container-id-20 div.sk-parallel-item:last-child::after {align-self: flex-start;width: 50%;}#sk-container-id-20 div.sk-parallel-item:only-child::after {width: 0;}#sk-container-id-20 div.sk-dashed-wrapped {border: 1px dashed gray;margin: 0 0.4em 0.5em 0.4em;box-sizing: border-box;padding-bottom: 0.4em;background-color: white;}#sk-container-id-20 div.sk-label label {font-family: monospace;font-weight: bold;display: inline-block;line-height: 1.2em;}#sk-container-id-20 div.sk-label-container {text-align: center;}#sk-container-id-20 div.sk-container {/* jupyter's `normalize.less` sets `[hidden] { display: none; }` but bootstrap.min.css set `[hidden] { display: none !important; }` so we also need the `!important` here to be able to override the default hidden behavior on the sphinx rendered scikit-learn.org. See: https://github.com/scikit-learn/scikit-learn/issues/21755 */display: inline-block !important;position: relative;}#sk-container-id-20 div.sk-text-repr-fallback {display: none;}</style><div id=\"sk-container-id-20\" class=\"sk-top-container\"><div class=\"sk-text-repr-fallback\"><pre>KNeighborsClassifier(n_neighbors=3)</pre><b>In a Jupyter environment, please rerun this cell to show the HTML representation or trust the notebook. <br />On GitHub, the HTML representation is unable to render, please try loading this page with nbviewer.org.</b></div><div class=\"sk-container\" hidden><div class=\"sk-item\"><div class=\"sk-estimator sk-toggleable\"><input class=\"sk-toggleable__control sk-hidden--visually\" id=\"sk-estimator-id-20\" type=\"checkbox\" checked><label for=\"sk-estimator-id-20\" class=\"sk-toggleable__label sk-toggleable__label-arrow\">KNeighborsClassifier</label><div class=\"sk-toggleable__content\"><pre>KNeighborsClassifier(n_neighbors=3)</pre></div></div></div></div></div>"
      ],
      "text/plain": [
       "KNeighborsClassifier(n_neighbors=3)"
      ]
     },
     "execution_count": 184,
     "metadata": {},
     "output_type": "execute_result"
    }
   ],
   "source": [
    "# Criando e treinando o modelo KNN\n",
    "knn = KNeighborsClassifier(n_neighbors=3)\n",
    "knn.fit(X_train, y_train)"
   ]
  },
  {
   "cell_type": "code",
   "execution_count": 185,
   "metadata": {},
   "outputs": [],
   "source": [
    "# Fazendo as previsões no conjunto de teste\n",
    "y_pred_knn = knn.predict(X_test)"
   ]
  },
  {
   "cell_type": "code",
   "execution_count": 186,
   "metadata": {},
   "outputs": [
    {
     "name": "stdout",
     "output_type": "stream",
     "text": [
      "              precision    recall  f1-score   support\n",
      "\n",
      "           0       0.81      0.91      0.85       159\n",
      "           1       0.32      0.17      0.22        41\n",
      "\n",
      "    accuracy                           0.76       200\n",
      "   macro avg       0.56      0.54      0.54       200\n",
      "weighted avg       0.71      0.76      0.72       200\n",
      "\n"
     ]
    }
   ],
   "source": [
    "# relatório de desempenho do modelo KNN\n",
    "print(classification_report(y_test, y_pred_knn))"
   ]
  },
  {
   "cell_type": "code",
   "execution_count": 187,
   "metadata": {},
   "outputs": [
    {
     "data": {
      "text/plain": [
       "<sklearn.metrics._plot.confusion_matrix.ConfusionMatrixDisplay at 0x29a081290>"
      ]
     },
     "execution_count": 187,
     "metadata": {},
     "output_type": "execute_result"
    },
    {
     "data": {
      "image/png": "[encoded data removed]",
      "text/plain": [
       "<Figure size 640x480 with 2 Axes>"
      ]
     },
     "metadata": {},
     "output_type": "display_data"
    }
   ],
   "source": [
    "# Crie a matriz de confusão\n",
    "confMatrixKNN = ConfusionMatrixDisplay(confusion_matrix=confusion_matrix(y_test, y_pred_knn))\n",
    "confMatrixKNN.plot()"
   ]
  },
  {
   "cell_type": "markdown",
   "metadata": {},
   "source": [
    "# Modelo Random Forest"
   ]
  },
  {
   "cell_type": "code",
   "execution_count": 188,
   "metadata": {},
   "outputs": [
    {
     "data": {
      "text/html": [
       "<style>#sk-container-id-21 {color: black;}#sk-container-id-21 pre{padding: 0;}#sk-container-id-21 div.sk-toggleable {background-color: white;}#sk-container-id-21 label.sk-toggleable__label {cursor: pointer;display: block;width: 100%;margin-bottom: 0;padding: 0.3em;box-sizing: border-box;text-align: center;}#sk-container-id-21 label.sk-toggleable__label-arrow:before {content: \"▸\";float: left;margin-right: 0.25em;color: #696969;}#sk-container-id-21 label.sk-toggleable__label-arrow:hover:before {color: black;}#sk-container-id-21 div.sk-estimator:hover label.sk-toggleable__label-arrow:before {color: black;}#sk-container-id-21 div.sk-toggleable__content {max-height: 0;max-width: 0;overflow: hidden;text-align: left;background-color: #f0f8ff;}#sk-container-id-21 div.sk-toggleable__content pre {margin: 0.2em;color: black;border-radius: 0.25em;background-color: #f0f8ff;}#sk-container-id-21 input.sk-toggleable__control:checked~div.sk-toggleable__content {max-height: 200px;max-width: 100%;overflow: auto;}#sk-container-id-21 input.sk-toggleable__control:checked~label.sk-toggleable__label-arrow:before {content: \"▾\";}#sk-container-id-21 div.sk-estimator input.sk-toggleable__control:checked~label.sk-toggleable__label {background-color: #d4ebff;}#sk-container-id-21 div.sk-label input.sk-toggleable__control:checked~label.sk-toggleable__label {background-color: #d4ebff;}#sk-container-id-21 input.sk-hidden--visually {border: 0;clip: rect(1px 1px 1px 1px);clip: rect(1px, 1px, 1px, 1px);height: 1px;margin: -1px;overflow: hidden;padding: 0;position: absolute;width: 1px;}#sk-container-id-21 div.sk-estimator {font-family: monospace;background-color: #f0f8ff;border: 1px dotted black;border-radius: 0.25em;box-sizing: border-box;margin-bottom: 0.5em;}#sk-container-id-21 div.sk-estimator:hover {background-color: #d4ebff;}#sk-container-id-21 div.sk-parallel-item::after {content: \"\";width: 100%;border-bottom: 1px solid gray;flex-grow: 1;}#sk-container-id-21 div.sk-label:hover label.sk-toggleable__label {background-color: #d4ebff;}#sk-container-id-21 div.sk-serial::before {content: \"\";position: absolute;border-left: 1px solid gray;box-sizing: border-box;top: 0;bottom: 0;left: 50%;z-index: 0;}#sk-container-id-21 div.sk-serial {display: flex;flex-direction: column;align-items: center;background-color: white;padding-right: 0.2em;padding-left: 0.2em;position: relative;}#sk-container-id-21 div.sk-item {position: relative;z-index: 1;}#sk-container-id-21 div.sk-parallel {display: flex;align-items: stretch;justify-content: center;background-color: white;position: relative;}#sk-container-id-21 div.sk-item::before, #sk-container-id-21 div.sk-parallel-item::before {content: \"\";position: absolute;border-left: 1px solid gray;box-sizing: border-box;top: 0;bottom: 0;left: 50%;z-index: -1;}#sk-container-id-21 div.sk-parallel-item {display: flex;flex-direction: column;z-index: 1;position: relative;background-color: white;}#sk-container-id-21 div.sk-parallel-item:first-child::after {align-self: flex-end;width: 50%;}#sk-container-id-21 div.sk-parallel-item:last-child::after {align-self: flex-start;width: 50%;}#sk-container-id-21 div.sk-parallel-item:only-child::after {width: 0;}#sk-container-id-21 div.sk-dashed-wrapped {border: 1px dashed gray;margin: 0 0.4em 0.5em 0.4em;box-sizing: border-box;padding-bottom: 0.4em;background-color: white;}#sk-container-id-21 div.sk-label label {font-family: monospace;font-weight: bold;display: inline-block;line-height: 1.2em;}#sk-container-id-21 div.sk-label-container {text-align: center;}#sk-container-id-21 div.sk-container {/* jupyter's `normalize.less` sets `[hidden] { display: none; }` but bootstrap.min.css set `[hidden] { display: none !important; }` so we also need the `!important` here to be able to override the default hidden behavior on the sphinx rendered scikit-learn.org. See: https://github.com/scikit-learn/scikit-learn/issues/21755 */display: inline-block !important;position: relative;}#sk-container-id-21 div.sk-text-repr-fallback {display: none;}</style><div id=\"sk-container-id-21\" class=\"sk-top-container\"><div class=\"sk-text-repr-fallback\"><pre>RandomForestClassifier(random_state=42)</pre><b>In a Jupyter environment, please rerun this cell to show the HTML representation or trust the notebook. <br />On GitHub, the HTML representation is unable to render, please try loading this page with nbviewer.org.</b></div><div class=\"sk-container\" hidden><div class=\"sk-item\"><div class=\"sk-estimator sk-toggleable\"><input class=\"sk-toggleable__control sk-hidden--visually\" id=\"sk-estimator-id-21\" type=\"checkbox\" checked><label for=\"sk-estimator-id-21\" class=\"sk-toggleable__label sk-toggleable__label-arrow\">RandomForestClassifier</label><div class=\"sk-toggleable__content\"><pre>RandomForestClassifier(random_state=42)</pre></div></div></div></div></div>"
      ],
      "text/plain": [
       "RandomForestClassifier(random_state=42)"
      ]
     },
     "execution_count": 188,
     "metadata": {},
     "output_type": "execute_result"
    }
   ],
   "source": [
    "# criando modelo random forest\n",
    "random_forest = RandomForestClassifier(n_estimators=100, random_state=42)\n",
    "random_forest.fit(X_train, y_train)"
   ]
  },
  {
   "cell_type": "code",
   "execution_count": 189,
   "metadata": {},
   "outputs": [],
   "source": [
    "# fazendo a previsão dos conjuntos de teste\n",
    "y_pred_RF = random_forest.predict(X_test)"
   ]
  },
  {
   "cell_type": "code",
   "execution_count": 190,
   "metadata": {},
   "outputs": [
    {
     "name": "stdout",
     "output_type": "stream",
     "text": [
      "              precision    recall  f1-score   support\n",
      "\n",
      "           0       0.86      0.96      0.91       159\n",
      "           1       0.73      0.39      0.51        41\n",
      "\n",
      "    accuracy                           0.84       200\n",
      "   macro avg       0.79      0.68      0.71       200\n",
      "weighted avg       0.83      0.84      0.83       200\n",
      "\n"
     ]
    }
   ],
   "source": [
    "# relatório de desempenho do modelo Random Forest\n",
    "print(classification_report(y_test, y_pred_RF))"
   ]
  },
  {
   "cell_type": "code",
   "execution_count": 191,
   "metadata": {},
   "outputs": [
    {
     "data": {
      "text/plain": [
       "<sklearn.metrics._plot.confusion_matrix.ConfusionMatrixDisplay at 0x29828e2d0>"
      ]
     },
     "execution_count": 191,
     "metadata": {},
     "output_type": "execute_result"
    },
    {
     "data": {
      "image/png": "[encoded data removed]",
      "text/plain": [
       "<Figure size 640x480 with 2 Axes>"
      ]
     },
     "metadata": {},
     "output_type": "display_data"
    }
   ],
   "source": [
    "# Crie a matriz de confusão\n",
    "confMatrixRF = ConfusionMatrixDisplay(confusion_matrix=confusion_matrix(y_test, y_pred_RF))\n",
    "confMatrixRF.plot()"
   ]
  },
  {
   "cell_type": "markdown",
   "metadata": {},
   "source": [
    "# Modelo SVM"
   ]
  },
  {
   "cell_type": "code",
   "execution_count": 192,
   "metadata": {},
   "outputs": [
    {
     "data": {
      "text/html": [
       "<style>#sk-container-id-22 {color: black;}#sk-container-id-22 pre{padding: 0;}#sk-container-id-22 div.sk-toggleable {background-color: white;}#sk-container-id-22 label.sk-toggleable__label {cursor: pointer;display: block;width: 100%;margin-bottom: 0;padding: 0.3em;box-sizing: border-box;text-align: center;}#sk-container-id-22 label.sk-toggleable__label-arrow:before {content: \"▸\";float: left;margin-right: 0.25em;color: #696969;}#sk-container-id-22 label.sk-toggleable__label-arrow:hover:before {color: black;}#sk-container-id-22 div.sk-estimator:hover label.sk-toggleable__label-arrow:before {color: black;}#sk-container-id-22 div.sk-toggleable__content {max-height: 0;max-width: 0;overflow: hidden;text-align: left;background-color: #f0f8ff;}#sk-container-id-22 div.sk-toggleable__content pre {margin: 0.2em;color: black;border-radius: 0.25em;background-color: #f0f8ff;}#sk-container-id-22 input.sk-toggleable__control:checked~div.sk-toggleable__content {max-height: 200px;max-width: 100%;overflow: auto;}#sk-container-id-22 input.sk-toggleable__control:checked~label.sk-toggleable__label-arrow:before {content: \"▾\";}#sk-container-id-22 div.sk-estimator input.sk-toggleable__control:checked~label.sk-toggleable__label {background-color: #d4ebff;}#sk-container-id-22 div.sk-label input.sk-toggleable__control:checked~label.sk-toggleable__label {background-color: #d4ebff;}#sk-container-id-22 input.sk-hidden--visually {border: 0;clip: rect(1px 1px 1px 1px);clip: rect(1px, 1px, 1px, 1px);height: 1px;margin: -1px;overflow: hidden;padding: 0;position: absolute;width: 1px;}#sk-container-id-22 div.sk-estimator {font-family: monospace;background-color: #f0f8ff;border: 1px dotted black;border-radius: 0.25em;box-sizing: border-box;margin-bottom: 0.5em;}#sk-container-id-22 div.sk-estimator:hover {background-color: #d4ebff;}#sk-container-id-22 div.sk-parallel-item::after {content: \"\";width: 100%;border-bottom: 1px solid gray;flex-grow: 1;}#sk-container-id-22 div.sk-label:hover label.sk-toggleable__label {background-color: #d4ebff;}#sk-container-id-22 div.sk-serial::before {content: \"\";position: absolute;border-left: 1px solid gray;box-sizing: border-box;top: 0;bottom: 0;left: 50%;z-index: 0;}#sk-container-id-22 div.sk-serial {display: flex;flex-direction: column;align-items: center;background-color: white;padding-right: 0.2em;padding-left: 0.2em;position: relative;}#sk-container-id-22 div.sk-item {position: relative;z-index: 1;}#sk-container-id-22 div.sk-parallel {display: flex;align-items: stretch;justify-content: center;background-color: white;position: relative;}#sk-container-id-22 div.sk-item::before, #sk-container-id-22 div.sk-parallel-item::before {content: \"\";position: absolute;border-left: 1px solid gray;box-sizing: border-box;top: 0;bottom: 0;left: 50%;z-index: -1;}#sk-container-id-22 div.sk-parallel-item {display: flex;flex-direction: column;z-index: 1;position: relative;background-color: white;}#sk-container-id-22 div.sk-parallel-item:first-child::after {align-self: flex-end;width: 50%;}#sk-container-id-22 div.sk-parallel-item:last-child::after {align-self: flex-start;width: 50%;}#sk-container-id-22 div.sk-parallel-item:only-child::after {width: 0;}#sk-container-id-22 div.sk-dashed-wrapped {border: 1px dashed gray;margin: 0 0.4em 0.5em 0.4em;box-sizing: border-box;padding-bottom: 0.4em;background-color: white;}#sk-container-id-22 div.sk-label label {font-family: monospace;font-weight: bold;display: inline-block;line-height: 1.2em;}#sk-container-id-22 div.sk-label-container {text-align: center;}#sk-container-id-22 div.sk-container {/* jupyter's `normalize.less` sets `[hidden] { display: none; }` but bootstrap.min.css set `[hidden] { display: none !important; }` so we also need the `!important` here to be able to override the default hidden behavior on the sphinx rendered scikit-learn.org. See: https://github.com/scikit-learn/scikit-learn/issues/21755 */display: inline-block !important;position: relative;}#sk-container-id-22 div.sk-text-repr-fallback {display: none;}</style><div id=\"sk-container-id-22\" class=\"sk-top-container\"><div class=\"sk-text-repr-fallback\"><pre>SVC()</pre><b>In a Jupyter environment, please rerun this cell to show the HTML representation or trust the notebook. <br />On GitHub, the HTML representation is unable to render, please try loading this page with nbviewer.org.</b></div><div class=\"sk-container\" hidden><div class=\"sk-item\"><div class=\"sk-estimator sk-toggleable\"><input class=\"sk-toggleable__control sk-hidden--visually\" id=\"sk-estimator-id-22\" type=\"checkbox\" checked><label for=\"sk-estimator-id-22\" class=\"sk-toggleable__label sk-toggleable__label-arrow\">SVC</label><div class=\"sk-toggleable__content\"><pre>SVC()</pre></div></div></div></div></div>"
      ],
      "text/plain": [
       "SVC()"
      ]
     },
     "execution_count": 192,
     "metadata": {},
     "output_type": "execute_result"
    }
   ],
   "source": [
    "# criando modelo SVM\n",
    "svm=SVC()\n",
    "svm.fit(X_train, y_train)"
   ]
  },
  {
   "cell_type": "code",
   "execution_count": 193,
   "metadata": {},
   "outputs": [],
   "source": [
    "# fazendo a previsão dos conjuntos de teste\n",
    "y_pred_svm = svm.predict(X_test)"
   ]
  },
  {
   "cell_type": "code",
   "execution_count": 194,
   "metadata": {},
   "outputs": [
    {
     "name": "stdout",
     "output_type": "stream",
     "text": [
      "              precision    recall  f1-score   support\n",
      "\n",
      "           0       0.80      1.00      0.89       159\n",
      "           1       0.00      0.00      0.00        41\n",
      "\n",
      "    accuracy                           0.80       200\n",
      "   macro avg       0.40      0.50      0.44       200\n",
      "weighted avg       0.63      0.80      0.70       200\n",
      "\n"
     ]
    },
    {
     "name": "stderr",
     "output_type": "stream",
     "text": [
      "/Users/lacienemelo/Documents/developed-software/python-dev/virtual-environment/lib/python3.11/site-packages/sklearn/metrics/_classification.py:1469: UndefinedMetricWarning: Precision and F-score are ill-defined and being set to 0.0 in labels with no predicted samples. Use `zero_division` parameter to control this behavior.\n",
      "  _warn_prf(average, modifier, msg_start, len(result))\n",
      "/Users/lacienemelo/Documents/developed-software/python-dev/virtual-environment/lib/python3.11/site-packages/sklearn/metrics/_classification.py:1469: UndefinedMetricWarning: Precision and F-score are ill-defined and being set to 0.0 in labels with no predicted samples. Use `zero_division` parameter to control this behavior.\n",
      "  _warn_prf(average, modifier, msg_start, len(result))\n",
      "/Users/lacienemelo/Documents/developed-software/python-dev/virtual-environment/lib/python3.11/site-packages/sklearn/metrics/_classification.py:1469: UndefinedMetricWarning: Precision and F-score are ill-defined and being set to 0.0 in labels with no predicted samples. Use `zero_division` parameter to control this behavior.\n",
      "  _warn_prf(average, modifier, msg_start, len(result))\n"
     ]
    }
   ],
   "source": [
    "# relatório de desempenho do modelo SVM\n",
    "print(classification_report(y_test, y_pred_svm))"
   ]
  },
  {
   "cell_type": "code",
   "execution_count": 195,
   "metadata": {},
   "outputs": [
    {
     "data": {
      "text/plain": [
       "<sklearn.metrics._plot.confusion_matrix.ConfusionMatrixDisplay at 0x29823e510>"
      ]
     },
     "execution_count": 195,
     "metadata": {},
     "output_type": "execute_result"
    },
    {
     "data": {
      "image/png": "[encoded data removed]",
      "text/plain": [
       "<Figure size 640x480 with 2 Axes>"
      ]
     },
     "metadata": {},
     "output_type": "display_data"
    }
   ],
   "source": [
    "# Crie a matriz de confusão\n",
    "confMatrixSVM = ConfusionMatrixDisplay(confusion_matrix=confusion_matrix(y_test, y_pred_svm))\n",
    "confMatrixSVM.plot()"
   ]
  },
  {
   "cell_type": "markdown",
   "metadata": {},
   "source": [
    "# Modelo Árvore de Decisão"
   ]
  },
  {
   "cell_type": "code",
   "execution_count": 196,
   "metadata": {},
   "outputs": [
    {
     "data": {
      "text/html": [
       "<style>#sk-container-id-23 {color: black;}#sk-container-id-23 pre{padding: 0;}#sk-container-id-23 div.sk-toggleable {background-color: white;}#sk-container-id-23 label.sk-toggleable__label {cursor: pointer;display: block;width: 100%;margin-bottom: 0;padding: 0.3em;box-sizing: border-box;text-align: center;}#sk-container-id-23 label.sk-toggleable__label-arrow:before {content: \"▸\";float: left;margin-right: 0.25em;color: #696969;}#sk-container-id-23 label.sk-toggleable__label-arrow:hover:before {color: black;}#sk-container-id-23 div.sk-estimator:hover label.sk-toggleable__label-arrow:before {color: black;}#sk-container-id-23 div.sk-toggleable__content {max-height: 0;max-width: 0;overflow: hidden;text-align: left;background-color: #f0f8ff;}#sk-container-id-23 div.sk-toggleable__content pre {margin: 0.2em;color: black;border-radius: 0.25em;background-color: #f0f8ff;}#sk-container-id-23 input.sk-toggleable__control:checked~div.sk-toggleable__content {max-height: 200px;max-width: 100%;overflow: auto;}#sk-container-id-23 input.sk-toggleable__control:checked~label.sk-toggleable__label-arrow:before {content: \"▾\";}#sk-container-id-23 div.sk-estimator input.sk-toggleable__control:checked~label.sk-toggleable__label {background-color: #d4ebff;}#sk-container-id-23 div.sk-label input.sk-toggleable__control:checked~label.sk-toggleable__label {background-color: #d4ebff;}#sk-container-id-23 input.sk-hidden--visually {border: 0;clip: rect(1px 1px 1px 1px);clip: rect(1px, 1px, 1px, 1px);height: 1px;margin: -1px;overflow: hidden;padding: 0;position: absolute;width: 1px;}#sk-container-id-23 div.sk-estimator {font-family: monospace;background-color: #f0f8ff;border: 1px dotted black;border-radius: 0.25em;box-sizing: border-box;margin-bottom: 0.5em;}#sk-container-id-23 div.sk-estimator:hover {background-color: #d4ebff;}#sk-container-id-23 div.sk-parallel-item::after {content: \"\";width: 100%;border-bottom: 1px solid gray;flex-grow: 1;}#sk-container-id-23 div.sk-label:hover label.sk-toggleable__label {background-color: #d4ebff;}#sk-container-id-23 div.sk-serial::before {content: \"\";position: absolute;border-left: 1px solid gray;box-sizing: border-box;top: 0;bottom: 0;left: 50%;z-index: 0;}#sk-container-id-23 div.sk-serial {display: flex;flex-direction: column;align-items: center;background-color: white;padding-right: 0.2em;padding-left: 0.2em;position: relative;}#sk-container-id-23 div.sk-item {position: relative;z-index: 1;}#sk-container-id-23 div.sk-parallel {display: flex;align-items: stretch;justify-content: center;background-color: white;position: relative;}#sk-container-id-23 div.sk-item::before, #sk-container-id-23 div.sk-parallel-item::before {content: \"\";position: absolute;border-left: 1px solid gray;box-sizing: border-box;top: 0;bottom: 0;left: 50%;z-index: -1;}#sk-container-id-23 div.sk-parallel-item {display: flex;flex-direction: column;z-index: 1;position: relative;background-color: white;}#sk-container-id-23 div.sk-parallel-item:first-child::after {align-self: flex-end;width: 50%;}#sk-container-id-23 div.sk-parallel-item:last-child::after {align-self: flex-start;width: 50%;}#sk-container-id-23 div.sk-parallel-item:only-child::after {width: 0;}#sk-container-id-23 div.sk-dashed-wrapped {border: 1px dashed gray;margin: 0 0.4em 0.5em 0.4em;box-sizing: border-box;padding-bottom: 0.4em;background-color: white;}#sk-container-id-23 div.sk-label label {font-family: monospace;font-weight: bold;display: inline-block;line-height: 1.2em;}#sk-container-id-23 div.sk-label-container {text-align: center;}#sk-container-id-23 div.sk-container {/* jupyter's `normalize.less` sets `[hidden] { display: none; }` but bootstrap.min.css set `[hidden] { display: none !important; }` so we also need the `!important` here to be able to override the default hidden behavior on the sphinx rendered scikit-learn.org. See: https://github.com/scikit-learn/scikit-learn/issues/21755 */display: inline-block !important;position: relative;}#sk-container-id-23 div.sk-text-repr-fallback {display: none;}</style><div id=\"sk-container-id-23\" class=\"sk-top-container\"><div class=\"sk-text-repr-fallback\"><pre>DecisionTreeClassifier()</pre><b>In a Jupyter environment, please rerun this cell to show the HTML representation or trust the notebook. <br />On GitHub, the HTML representation is unable to render, please try loading this page with nbviewer.org.</b></div><div class=\"sk-container\" hidden><div class=\"sk-item\"><div class=\"sk-estimator sk-toggleable\"><input class=\"sk-toggleable__control sk-hidden--visually\" id=\"sk-estimator-id-23\" type=\"checkbox\" checked><label for=\"sk-estimator-id-23\" class=\"sk-toggleable__label sk-toggleable__label-arrow\">DecisionTreeClassifier</label><div class=\"sk-toggleable__content\"><pre>DecisionTreeClassifier()</pre></div></div></div></div></div>"
      ],
      "text/plain": [
       "DecisionTreeClassifier()"
      ]
     },
     "execution_count": 196,
     "metadata": {},
     "output_type": "execute_result"
    }
   ],
   "source": [
    "# criando modelo de árvore de decisão\n",
    "tree = DecisionTreeClassifier()\n",
    "tree.fit(X_train, y_train)"
   ]
  },
  {
   "cell_type": "code",
   "execution_count": 197,
   "metadata": {},
   "outputs": [
    {
     "data": {
      "text/plain": [
       "array([0, 0, 0, 0, 0, 0, 0, 0, 0, 0, 1, 0, 0, 0, 0, 1, 0, 1, 1, 0, 0, 1,\n",
       "       1, 0, 0, 1, 0, 0, 0, 1, 0, 0, 0, 0, 0, 0, 0, 0, 0, 0, 0, 0, 0, 0,\n",
       "       0, 0, 1, 0, 0, 0, 0, 0, 1, 0, 0, 0, 1, 1, 0, 0, 0, 0, 0, 0, 0, 0,\n",
       "       0, 0, 1, 0, 0, 1, 0, 0, 0, 0, 1, 0, 0, 0, 0, 0, 0, 0, 0, 0, 0, 1,\n",
       "       1, 0, 0, 1, 1, 0, 0, 0, 0, 0, 0, 1, 0, 0, 0, 1, 0, 0, 0, 0, 1, 0,\n",
       "       0, 1, 0, 0, 0, 0, 1, 0, 0, 0, 0, 0, 1, 1, 0, 0, 0, 0, 0, 0, 0, 0,\n",
       "       0, 0, 1, 0, 0, 1, 0, 0, 0, 0, 1, 0, 0, 0, 1, 0, 1, 0, 0, 0, 0, 0,\n",
       "       0, 1, 1, 1, 0, 1, 0, 0, 0, 1, 0, 0, 0, 0, 0, 1, 0, 1, 0, 0, 0, 0,\n",
       "       1, 0, 1, 1, 0, 0, 0, 0, 0, 0, 0, 1, 1, 0, 0, 0, 0, 0, 0, 0, 0, 0,\n",
       "       1, 0])"
      ]
     },
     "execution_count": 197,
     "metadata": {},
     "output_type": "execute_result"
    }
   ],
   "source": [
    "# fazendo a previsão dos conjuntos de teste\n",
    "y_pred_tree = tree.predict(X_test)\n",
    "y_pred_tree"
   ]
  },
  {
   "cell_type": "code",
   "execution_count": 198,
   "metadata": {},
   "outputs": [
    {
     "name": "stdout",
     "output_type": "stream",
     "text": [
      "              precision    recall  f1-score   support\n",
      "\n",
      "           0       0.87      0.86      0.86       159\n",
      "           1       0.48      0.51      0.49        41\n",
      "\n",
      "    accuracy                           0.79       200\n",
      "   macro avg       0.67      0.68      0.68       200\n",
      "weighted avg       0.79      0.79      0.79       200\n",
      "\n"
     ]
    }
   ],
   "source": [
    "# relatório de desempenho do modelo de árvore de decisão\n",
    "print(classification_report(y_test, y_pred_tree))"
   ]
  },
  {
   "cell_type": "code",
   "execution_count": 199,
   "metadata": {},
   "outputs": [
    {
     "data": {
      "text/plain": [
       "<sklearn.metrics._plot.confusion_matrix.ConfusionMatrixDisplay at 0x29ae51890>"
      ]
     },
     "execution_count": 199,
     "metadata": {},
     "output_type": "execute_result"
    },
    {
     "data": {
      "image/png": "[encoded data removed]",
      "text/plain": [
       "<Figure size 640x480 with 2 Axes>"
      ]
     },
     "metadata": {},
     "output_type": "display_data"
    }
   ],
   "source": [
    "# Crie a matriz de confusão\n",
    "confMatrixDecisionTree = ConfusionMatrixDisplay(confusion_matrix=confusion_matrix(y_test, y_pred_tree))\n",
    "confMatrixDecisionTree.plot()"
   ]
  },
  {
   "cell_type": "markdown",
   "metadata": {},
   "source": [
    "# Modelo RNA"
   ]
  },
  {
   "cell_type": "code",
   "execution_count": 200,
   "metadata": {},
   "outputs": [],
   "source": [
    "# Crie a arquitetura da RNA\n",
    "model = Sequential()\n",
    "\n",
    "# Adicione a primeira camada densamente conectada\n",
    "# Ela tem 9 neurônios (ou unidades) e usa a função de ativação 'relu'\n",
    "# input_shape número de características do conjunto de treinamento\n",
    "model.add(Dense(9, activation='relu', input_shape=(X_train.shape[1],)))\n",
    "\n",
    "# Adicione a segunda camada densamente conectada\n",
    "# Esta é a primeira camada oculta\n",
    "# Ela tem 100 neurônios e usa a função de ativação 'relu'\n",
    "model.add(Dense(100, activation='relu'))\n",
    "\n",
    "# Adicione a terceira camada densamente conectada\n",
    "# Esta é a camada de saída\n",
    "# sigmoid para classificação binária\n",
    "model.add(Dense(1, activation='sigmoid'))"
   ]
  },
  {
   "cell_type": "code",
   "execution_count": 201,
   "metadata": {},
   "outputs": [
    {
     "name": "stderr",
     "output_type": "stream",
     "text": [
      "WARNING:absl:At this time, the v2.11+ optimizer `tf.keras.optimizers.Adam` runs slowly on M1/M2 Macs, please use the legacy Keras optimizer instead, located at `tf.keras.optimizers.legacy.Adam`.\n"
     ]
    }
   ],
   "source": [
    "# Compilar o modelo\n",
    "model.compile(optimizer=Adam(learning_rate=0.001), loss='binary_crossentropy', metrics=['accuracy'])"
   ]
  },
  {
   "cell_type": "code",
   "execution_count": 202,
   "metadata": {},
   "outputs": [
    {
     "name": "stdout",
     "output_type": "stream",
     "text": [
      "Epoch 1/100\n"
     ]
    },
    {
     "name": "stdout",
     "output_type": "stream",
     "text": [
      "25/25 [==============================] - 0s 571us/step - loss: 5.7908 - accuracy: 0.5494\n",
      "Epoch 2/100\n",
      "25/25 [==============================] - 0s 499us/step - loss: 1.3277 - accuracy: 0.7447\n",
      "Epoch 3/100\n",
      "25/25 [==============================] - 0s 474us/step - loss: 0.6945 - accuracy: 0.7447\n",
      "Epoch 4/100\n",
      "25/25 [==============================] - 0s 458us/step - loss: 0.5882 - accuracy: 0.7710\n",
      "Epoch 5/100\n",
      "25/25 [==============================] - 0s 435us/step - loss: 0.5850 - accuracy: 0.7610\n",
      "Epoch 6/100\n",
      "25/25 [==============================] - 0s 429us/step - loss: 0.5511 - accuracy: 0.7610\n",
      "Epoch 7/100\n",
      "25/25 [==============================] - 0s 428us/step - loss: 0.5421 - accuracy: 0.7722\n",
      "Epoch 8/100\n",
      "25/25 [==============================] - 0s 433us/step - loss: 0.5182 - accuracy: 0.7710\n",
      "Epoch 9/100\n",
      "25/25 [==============================] - 0s 431us/step - loss: 0.5370 - accuracy: 0.7822\n",
      "Epoch 10/100\n",
      "25/25 [==============================] - 0s 437us/step - loss: 0.5244 - accuracy: 0.7647\n",
      "Epoch 11/100\n",
      "25/25 [==============================] - 0s 431us/step - loss: 0.5807 - accuracy: 0.7484\n",
      "Epoch 12/100\n",
      "25/25 [==============================] - 0s 422us/step - loss: 0.5456 - accuracy: 0.7547\n",
      "Epoch 13/100\n",
      "25/25 [==============================] - 0s 439us/step - loss: 0.4979 - accuracy: 0.7935\n",
      "Epoch 14/100\n",
      "25/25 [==============================] - 0s 431us/step - loss: 0.5381 - accuracy: 0.7822\n",
      "Epoch 15/100\n",
      "25/25 [==============================] - 0s 434us/step - loss: 0.5221 - accuracy: 0.7747\n",
      "Epoch 16/100\n",
      "25/25 [==============================] - 0s 431us/step - loss: 0.5143 - accuracy: 0.7810\n",
      "Epoch 17/100\n",
      "25/25 [==============================] - 0s 436us/step - loss: 0.5008 - accuracy: 0.7885\n",
      "Epoch 18/100\n",
      "25/25 [==============================] - 0s 427us/step - loss: 0.5071 - accuracy: 0.7885\n",
      "Epoch 19/100\n",
      "25/25 [==============================] - 0s 433us/step - loss: 0.4715 - accuracy: 0.7960\n",
      "Epoch 20/100\n",
      "25/25 [==============================] - 0s 424us/step - loss: 0.4871 - accuracy: 0.8060\n",
      "Epoch 21/100\n",
      "25/25 [==============================] - 0s 428us/step - loss: 0.5405 - accuracy: 0.7597\n",
      "Epoch 22/100\n",
      "25/25 [==============================] - 0s 425us/step - loss: 0.5077 - accuracy: 0.7847\n",
      "Epoch 23/100\n",
      "25/25 [==============================] - 0s 449us/step - loss: 0.4860 - accuracy: 0.7972\n",
      "Epoch 24/100\n",
      "25/25 [==============================] - 0s 442us/step - loss: 0.4843 - accuracy: 0.7835\n",
      "Epoch 25/100\n",
      "25/25 [==============================] - 0s 429us/step - loss: 0.5099 - accuracy: 0.7885\n",
      "Epoch 26/100\n",
      "25/25 [==============================] - 0s 426us/step - loss: 0.4932 - accuracy: 0.7910\n",
      "Epoch 27/100\n",
      "25/25 [==============================] - 0s 432us/step - loss: 0.4763 - accuracy: 0.7997\n",
      "Epoch 28/100\n",
      "25/25 [==============================] - 0s 434us/step - loss: 0.4919 - accuracy: 0.7897\n",
      "Epoch 29/100\n",
      "25/25 [==============================] - 0s 423us/step - loss: 0.4921 - accuracy: 0.7910\n",
      "Epoch 30/100\n",
      "25/25 [==============================] - 0s 430us/step - loss: 0.5009 - accuracy: 0.7985\n",
      "Epoch 31/100\n",
      "25/25 [==============================] - 0s 428us/step - loss: 0.4952 - accuracy: 0.7910\n",
      "Epoch 32/100\n",
      "25/25 [==============================] - 0s 444us/step - loss: 0.5016 - accuracy: 0.7885\n",
      "Epoch 33/100\n",
      "25/25 [==============================] - 0s 426us/step - loss: 0.5584 - accuracy: 0.7922\n",
      "Epoch 34/100\n",
      "25/25 [==============================] - 0s 435us/step - loss: 0.5042 - accuracy: 0.7810\n",
      "Epoch 35/100\n",
      "25/25 [==============================] - 0s 434us/step - loss: 0.4719 - accuracy: 0.7747\n",
      "Epoch 36/100\n",
      "25/25 [==============================] - 0s 422us/step - loss: 0.5129 - accuracy: 0.7885\n",
      "Epoch 37/100\n",
      "25/25 [==============================] - 0s 427us/step - loss: 0.4868 - accuracy: 0.7997\n",
      "Epoch 38/100\n",
      "25/25 [==============================] - 0s 439us/step - loss: 0.4840 - accuracy: 0.7872\n",
      "Epoch 39/100\n",
      "25/25 [==============================] - 0s 431us/step - loss: 0.4718 - accuracy: 0.8073\n",
      "Epoch 40/100\n",
      "25/25 [==============================] - 0s 437us/step - loss: 0.5578 - accuracy: 0.7584\n",
      "Epoch 41/100\n",
      "25/25 [==============================] - 0s 425us/step - loss: 0.5100 - accuracy: 0.7910\n",
      "Epoch 42/100\n",
      "25/25 [==============================] - 0s 430us/step - loss: 0.4500 - accuracy: 0.8073\n",
      "Epoch 43/100\n",
      "25/25 [==============================] - 0s 427us/step - loss: 0.4723 - accuracy: 0.7922\n",
      "Epoch 44/100\n",
      "25/25 [==============================] - 0s 434us/step - loss: 0.4513 - accuracy: 0.8048\n",
      "Epoch 45/100\n",
      "25/25 [==============================] - 0s 431us/step - loss: 0.4662 - accuracy: 0.7947\n",
      "Epoch 46/100\n",
      "25/25 [==============================] - 0s 424us/step - loss: 0.4418 - accuracy: 0.7960\n",
      "Epoch 47/100\n",
      "25/25 [==============================] - 0s 433us/step - loss: 0.4438 - accuracy: 0.7985\n",
      "Epoch 48/100\n",
      "25/25 [==============================] - 0s 441us/step - loss: 0.4416 - accuracy: 0.8085\n",
      "Epoch 49/100\n",
      "25/25 [==============================] - 0s 421us/step - loss: 0.4474 - accuracy: 0.8135\n",
      "Epoch 50/100\n",
      "25/25 [==============================] - 0s 430us/step - loss: 0.4475 - accuracy: 0.8148\n",
      "Epoch 51/100\n",
      "25/25 [==============================] - 0s 450us/step - loss: 0.4425 - accuracy: 0.7985\n",
      "Epoch 52/100\n",
      "25/25 [==============================] - 0s 442us/step - loss: 0.4292 - accuracy: 0.8098\n",
      "Epoch 53/100\n",
      "25/25 [==============================] - 0s 425us/step - loss: 0.4571 - accuracy: 0.7997\n",
      "Epoch 54/100\n",
      "25/25 [==============================] - 0s 444us/step - loss: 0.4593 - accuracy: 0.7910\n",
      "Epoch 55/100\n",
      "25/25 [==============================] - 0s 431us/step - loss: 0.4329 - accuracy: 0.8073\n",
      "Epoch 56/100\n",
      "25/25 [==============================] - 0s 427us/step - loss: 0.4437 - accuracy: 0.8035\n",
      "Epoch 57/100\n",
      "25/25 [==============================] - 0s 430us/step - loss: 0.4415 - accuracy: 0.7860\n",
      "Epoch 58/100\n",
      "25/25 [==============================] - 0s 445us/step - loss: 0.4569 - accuracy: 0.7960\n",
      "Epoch 59/100\n",
      "25/25 [==============================] - 0s 430us/step - loss: 0.5155 - accuracy: 0.7722\n",
      "Epoch 60/100\n",
      "25/25 [==============================] - 0s 449us/step - loss: 0.4421 - accuracy: 0.8123\n",
      "Epoch 61/100\n",
      "25/25 [==============================] - 0s 440us/step - loss: 0.4707 - accuracy: 0.8035\n",
      "Epoch 62/100\n",
      "25/25 [==============================] - 0s 446us/step - loss: 0.4582 - accuracy: 0.7997\n",
      "Epoch 63/100\n",
      "25/25 [==============================] - 0s 430us/step - loss: 0.4442 - accuracy: 0.8085\n",
      "Epoch 64/100\n",
      "25/25 [==============================] - 0s 429us/step - loss: 0.4457 - accuracy: 0.7960\n",
      "Epoch 65/100\n",
      "25/25 [==============================] - 0s 451us/step - loss: 0.4299 - accuracy: 0.8135\n",
      "Epoch 66/100\n",
      "25/25 [==============================] - 0s 423us/step - loss: 0.4541 - accuracy: 0.7985\n",
      "Epoch 67/100\n",
      "25/25 [==============================] - 0s 432us/step - loss: 0.4913 - accuracy: 0.7972\n",
      "Epoch 68/100\n",
      "25/25 [==============================] - 0s 430us/step - loss: 0.4301 - accuracy: 0.8110\n",
      "Epoch 69/100\n",
      "25/25 [==============================] - 0s 444us/step - loss: 0.4463 - accuracy: 0.8010\n",
      "Epoch 70/100\n",
      "25/25 [==============================] - 0s 431us/step - loss: 0.4320 - accuracy: 0.8173\n",
      "Epoch 71/100\n",
      "25/25 [==============================] - 0s 426us/step - loss: 0.4489 - accuracy: 0.7972\n",
      "Epoch 72/100\n",
      "25/25 [==============================] - 0s 434us/step - loss: 0.4204 - accuracy: 0.8123\n",
      "Epoch 73/100\n",
      "25/25 [==============================] - 0s 432us/step - loss: 0.4282 - accuracy: 0.8073\n",
      "Epoch 74/100\n",
      "25/25 [==============================] - 0s 434us/step - loss: 0.4301 - accuracy: 0.7985\n",
      "Epoch 75/100\n",
      "25/25 [==============================] - 0s 445us/step - loss: 0.4289 - accuracy: 0.8135\n",
      "Epoch 76/100\n",
      "25/25 [==============================] - 0s 437us/step - loss: 0.4353 - accuracy: 0.8060\n",
      "Epoch 77/100\n",
      "25/25 [==============================] - 0s 428us/step - loss: 0.4506 - accuracy: 0.8085\n",
      "Epoch 78/100\n",
      "25/25 [==============================] - 0s 441us/step - loss: 0.4255 - accuracy: 0.8148\n",
      "Epoch 79/100\n",
      "25/25 [==============================] - 0s 449us/step - loss: 0.4196 - accuracy: 0.8085\n",
      "Epoch 80/100\n",
      "25/25 [==============================] - 0s 433us/step - loss: 0.4566 - accuracy: 0.7972\n",
      "Epoch 81/100\n",
      "25/25 [==============================] - 0s 442us/step - loss: 0.4228 - accuracy: 0.8123\n",
      "Epoch 82/100\n",
      "25/25 [==============================] - 0s 433us/step - loss: 0.4679 - accuracy: 0.7985\n",
      "Epoch 83/100\n",
      "25/25 [==============================] - 0s 442us/step - loss: 0.4449 - accuracy: 0.8023\n",
      "Epoch 84/100\n",
      "25/25 [==============================] - 0s 448us/step - loss: 0.4555 - accuracy: 0.7960\n",
      "Epoch 85/100\n",
      "25/25 [==============================] - 0s 457us/step - loss: 0.4465 - accuracy: 0.8073\n",
      "Epoch 86/100\n",
      "25/25 [==============================] - 0s 481us/step - loss: 0.4343 - accuracy: 0.8048\n",
      "Epoch 87/100\n",
      "25/25 [==============================] - 0s 491us/step - loss: 0.4348 - accuracy: 0.8048\n",
      "Epoch 88/100\n",
      "25/25 [==============================] - 0s 459us/step - loss: 0.4274 - accuracy: 0.8123\n",
      "Epoch 89/100\n",
      "25/25 [==============================] - 0s 554us/step - loss: 0.4197 - accuracy: 0.8035\n",
      "Epoch 90/100\n",
      "25/25 [==============================] - 0s 481us/step - loss: 0.4204 - accuracy: 0.8098\n",
      "Epoch 91/100\n",
      "25/25 [==============================] - 0s 531us/step - loss: 0.4436 - accuracy: 0.8048\n",
      "Epoch 92/100\n",
      "25/25 [==============================] - 0s 486us/step - loss: 0.4108 - accuracy: 0.8035\n",
      "Epoch 93/100\n",
      "25/25 [==============================] - 0s 456us/step - loss: 0.4162 - accuracy: 0.8185\n",
      "Epoch 94/100\n",
      "25/25 [==============================] - 0s 445us/step - loss: 0.4271 - accuracy: 0.8010\n",
      "Epoch 95/100\n",
      "25/25 [==============================] - 0s 486us/step - loss: 0.4290 - accuracy: 0.8060\n",
      "Epoch 96/100\n",
      "25/25 [==============================] - 0s 472us/step - loss: 0.4331 - accuracy: 0.8048\n",
      "Epoch 97/100\n",
      "25/25 [==============================] - 0s 449us/step - loss: 0.4340 - accuracy: 0.8060\n",
      "Epoch 98/100\n",
      "25/25 [==============================] - 0s 462us/step - loss: 0.4119 - accuracy: 0.8023\n",
      "Epoch 99/100\n",
      "25/25 [==============================] - 0s 444us/step - loss: 0.4324 - accuracy: 0.7960\n",
      "Epoch 100/100\n",
      "25/25 [==============================] - 0s 450us/step - loss: 0.4182 - accuracy: 0.8160\n"
     ]
    },
    {
     "data": {
      "text/plain": [
       "<keras.src.callbacks.History at 0x2981c3a10>"
      ]
     },
     "execution_count": 202,
     "metadata": {},
     "output_type": "execute_result"
    }
   ],
   "source": [
    "# treina o modelo\n",
    "# atualiza o modelo após processar 32 lotes batch_size\n",
    "model.fit(X_train, y_train, epochs=100, batch_size=32)"
   ]
  },
  {
   "cell_type": "code",
   "execution_count": 203,
   "metadata": {},
   "outputs": [
    {
     "name": "stdout",
     "output_type": "stream",
     "text": [
      "7/7 [==============================] - 0s 454us/step\n"
     ]
    }
   ],
   "source": [
    "# Fazendo a previsão do conjunto de teste\n",
    "y_pred_RNA = model.predict(X_test)\n",
    "y_pred_RNA = le.inverse_transform(y_pred_RNA.argmax(axis=1))"
   ]
  },
  {
   "cell_type": "code",
   "execution_count": 204,
   "metadata": {},
   "outputs": [
    {
     "name": "stdout",
     "output_type": "stream",
     "text": [
      "              precision    recall  f1-score   support\n",
      "\n",
      "           0       0.80      1.00      0.89       159\n",
      "           1       0.00      0.00      0.00        41\n",
      "\n",
      "    accuracy                           0.80       200\n",
      "   macro avg       0.40      0.50      0.44       200\n",
      "weighted avg       0.63      0.80      0.70       200\n",
      "\n"
     ]
    },
    {
     "name": "stderr",
     "output_type": "stream",
     "text": [
      "/Users/lacienemelo/Documents/developed-software/python-dev/virtual-environment/lib/python3.11/site-packages/sklearn/metrics/_classification.py:1469: UndefinedMetricWarning: Precision and F-score are ill-defined and being set to 0.0 in labels with no predicted samples. Use `zero_division` parameter to control this behavior.\n",
      "  _warn_prf(average, modifier, msg_start, len(result))\n",
      "/Users/lacienemelo/Documents/developed-software/python-dev/virtual-environment/lib/python3.11/site-packages/sklearn/metrics/_classification.py:1469: UndefinedMetricWarning: Precision and F-score are ill-defined and being set to 0.0 in labels with no predicted samples. Use `zero_division` parameter to control this behavior.\n",
      "  _warn_prf(average, modifier, msg_start, len(result))\n",
      "/Users/lacienemelo/Documents/developed-software/python-dev/virtual-environment/lib/python3.11/site-packages/sklearn/metrics/_classification.py:1469: UndefinedMetricWarning: Precision and F-score are ill-defined and being set to 0.0 in labels with no predicted samples. Use `zero_division` parameter to control this behavior.\n",
      "  _warn_prf(average, modifier, msg_start, len(result))\n"
     ]
    }
   ],
   "source": [
    "# relatório de desempenho do modelo RNA\n",
    "print(classification_report(y_test, y_pred_RNA))"
   ]
  },
  {
   "cell_type": "code",
   "execution_count": 205,
   "metadata": {},
   "outputs": [
    {
     "data": {
      "text/plain": [
       "<sklearn.metrics._plot.confusion_matrix.ConfusionMatrixDisplay at 0x29ca39450>"
      ]
     },
     "execution_count": 205,
     "metadata": {},
     "output_type": "execute_result"
    },
    {
     "data": {
      "image/png": "[encoded data removed]",
      "text/plain": [
       "<Figure size 640x480 with 2 Axes>"
      ]
     },
     "metadata": {},
     "output_type": "display_data"
    }
   ],
   "source": [
    "# Crie a matriz de confusão\n",
    "confMatrixRNA = ConfusionMatrixDisplay(confusion_matrix=confusion_matrix(y_test, y_pred_RNA))\n",
    "confMatrixRNA.plot()"
   ]
  }
 ],
 "metadata": {
  "kernelspec": {
   "display_name": "virtual-environment",
   "language": "python",
   "name": "virtual-environment"
  },
  "language_info": {
   "codemirror_mode": {
    "name": "ipython",
    "version": 3
   },
   "file_extension": ".py",
   "mimetype": "text/x-python",
   "name": "python",
   "nbconvert_exporter": "python",
   "pygments_lexer": "ipython3",
   "version": "3.11.4"
  }
 },
 "nbformat": 4,
 "nbformat_minor": 2
}
