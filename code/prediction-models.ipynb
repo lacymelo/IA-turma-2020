{
 "cells": [
  {
   "cell_type": "markdown",
   "metadata": {},
   "source": [
    "**Universidade Federal do Pará**\n",
    "\n",
    "**Mestrado em Computação Aplicada PPCA/Tucuruí**\n",
    "\n",
    "**Disciplina: Inteligência Artificial**\n",
    "\n",
    "Laciene Alves Melo\n",
    "\n",
    "---\n",
    "\n",
    "> Objetivo: Aplicar modelos para prever se o crédito do cliente deve ou não ser aprovado"
   ]
  },
  {
   "cell_type": "code",
   "execution_count": 96,
   "metadata": {},
   "outputs": [],
   "source": [
    "import pandas as pd\n",
    "from sklearn.preprocessing import LabelEncoder\n",
    "from sklearn.metrics import classification_report\n",
    "from sklearn.model_selection import train_test_split\n",
    "# KNN\n",
    "from sklearn.neighbors import KNeighborsClassifier\n",
    "# matriz de confusão\n",
    "from sklearn.metrics import confusion_matrix, accuracy_score, classification_report, ConfusionMatrixDisplay\n",
    "# Random Forest\n",
    "from sklearn.ensemble import RandomForestClassifier\n",
    "# SVM\n",
    "from sklearn.svm import SVC\n",
    "# Árvore de Decisão\n",
    "from sklearn.tree import DecisionTreeClassifier\n",
    "# RNA\n",
    "from tensorflow.keras.models import Sequential\n",
    "from tensorflow.keras.layers import Dense\n",
    "from tensorflow.keras.optimizers import Adam\n"
   ]
  },
  {
   "cell_type": "code",
   "execution_count": 97,
   "metadata": {},
   "outputs": [
    {
     "data": {
      "text/html": [
       "<div>\n",
       "<style scoped>\n",
       "    .dataframe tbody tr th:only-of-type {\n",
       "        vertical-align: middle;\n",
       "    }\n",
       "\n",
       "    .dataframe tbody tr th {\n",
       "        vertical-align: top;\n",
       "    }\n",
       "\n",
       "    .dataframe thead th {\n",
       "        text-align: right;\n",
       "    }\n",
       "</style>\n",
       "<table border=\"1\" class=\"dataframe\">\n",
       "  <thead>\n",
       "    <tr style=\"text-align: right;\">\n",
       "      <th></th>\n",
       "      <th>score</th>\n",
       "      <th>state</th>\n",
       "      <th>gender</th>\n",
       "      <th>age</th>\n",
       "      <th>patrimony</th>\n",
       "      <th>balance</th>\n",
       "      <th>products</th>\n",
       "      <th>credit_card</th>\n",
       "      <th>active</th>\n",
       "      <th>approved_credit</th>\n",
       "    </tr>\n",
       "  </thead>\n",
       "  <tbody>\n",
       "    <tr>\n",
       "      <th>0</th>\n",
       "      <td>619</td>\n",
       "      <td>RS</td>\n",
       "      <td>F</td>\n",
       "      <td>42</td>\n",
       "      <td>2</td>\n",
       "      <td>0</td>\n",
       "      <td>1</td>\n",
       "      <td>1</td>\n",
       "      <td>1</td>\n",
       "      <td>1</td>\n",
       "    </tr>\n",
       "    <tr>\n",
       "      <th>1</th>\n",
       "      <td>608</td>\n",
       "      <td>SC</td>\n",
       "      <td>F</td>\n",
       "      <td>41</td>\n",
       "      <td>1</td>\n",
       "      <td>8380786</td>\n",
       "      <td>1</td>\n",
       "      <td>0</td>\n",
       "      <td>1</td>\n",
       "      <td>0</td>\n",
       "    </tr>\n",
       "    <tr>\n",
       "      <th>2</th>\n",
       "      <td>502</td>\n",
       "      <td>RS</td>\n",
       "      <td>F</td>\n",
       "      <td>42</td>\n",
       "      <td>8</td>\n",
       "      <td>1596608</td>\n",
       "      <td>3</td>\n",
       "      <td>1</td>\n",
       "      <td>0</td>\n",
       "      <td>1</td>\n",
       "    </tr>\n",
       "    <tr>\n",
       "      <th>3</th>\n",
       "      <td>699</td>\n",
       "      <td>RS</td>\n",
       "      <td>F</td>\n",
       "      <td>39</td>\n",
       "      <td>1</td>\n",
       "      <td>0</td>\n",
       "      <td>2</td>\n",
       "      <td>0</td>\n",
       "      <td>0</td>\n",
       "      <td>0</td>\n",
       "    </tr>\n",
       "    <tr>\n",
       "      <th>4</th>\n",
       "      <td>850</td>\n",
       "      <td>SC</td>\n",
       "      <td>F</td>\n",
       "      <td>43</td>\n",
       "      <td>2</td>\n",
       "      <td>12551082</td>\n",
       "      <td>1</td>\n",
       "      <td>1</td>\n",
       "      <td>1</td>\n",
       "      <td>0</td>\n",
       "    </tr>\n",
       "    <tr>\n",
       "      <th>...</th>\n",
       "      <td>...</td>\n",
       "      <td>...</td>\n",
       "      <td>...</td>\n",
       "      <td>...</td>\n",
       "      <td>...</td>\n",
       "      <td>...</td>\n",
       "      <td>...</td>\n",
       "      <td>...</td>\n",
       "      <td>...</td>\n",
       "      <td>...</td>\n",
       "    </tr>\n",
       "    <tr>\n",
       "      <th>994</th>\n",
       "      <td>838</td>\n",
       "      <td>SC</td>\n",
       "      <td>M</td>\n",
       "      <td>43</td>\n",
       "      <td>9</td>\n",
       "      <td>12310588</td>\n",
       "      <td>2</td>\n",
       "      <td>1</td>\n",
       "      <td>0</td>\n",
       "      <td>0</td>\n",
       "    </tr>\n",
       "    <tr>\n",
       "      <th>995</th>\n",
       "      <td>610</td>\n",
       "      <td>SC</td>\n",
       "      <td>M</td>\n",
       "      <td>29</td>\n",
       "      <td>9</td>\n",
       "      <td>0</td>\n",
       "      <td>3</td>\n",
       "      <td>0</td>\n",
       "      <td>1</td>\n",
       "      <td>0</td>\n",
       "    </tr>\n",
       "    <tr>\n",
       "      <th>996</th>\n",
       "      <td>811</td>\n",
       "      <td>SC</td>\n",
       "      <td>M</td>\n",
       "      <td>44</td>\n",
       "      <td>3</td>\n",
       "      <td>0</td>\n",
       "      <td>2</td>\n",
       "      <td>0</td>\n",
       "      <td>1</td>\n",
       "      <td>0</td>\n",
       "    </tr>\n",
       "    <tr>\n",
       "      <th>997</th>\n",
       "      <td>587</td>\n",
       "      <td>SC</td>\n",
       "      <td>M</td>\n",
       "      <td>62</td>\n",
       "      <td>7</td>\n",
       "      <td>12128627</td>\n",
       "      <td>1</td>\n",
       "      <td>0</td>\n",
       "      <td>1</td>\n",
       "      <td>0</td>\n",
       "    </tr>\n",
       "    <tr>\n",
       "      <th>998</th>\n",
       "      <td>811</td>\n",
       "      <td>PR</td>\n",
       "      <td>F</td>\n",
       "      <td>28</td>\n",
       "      <td>4</td>\n",
       "      <td>16773882</td>\n",
       "      <td>2</td>\n",
       "      <td>1</td>\n",
       "      <td>1</td>\n",
       "      <td>0</td>\n",
       "    </tr>\n",
       "  </tbody>\n",
       "</table>\n",
       "<p>999 rows × 10 columns</p>\n",
       "</div>"
      ],
      "text/plain": [
       "     score state gender  age  patrimony   balance  products  credit_card  \\\n",
       "0      619    RS      F   42          2         0         1            1   \n",
       "1      608    SC      F   41          1   8380786         1            0   \n",
       "2      502    RS      F   42          8   1596608         3            1   \n",
       "3      699    RS      F   39          1         0         2            0   \n",
       "4      850    SC      F   43          2  12551082         1            1   \n",
       "..     ...   ...    ...  ...        ...       ...       ...          ...   \n",
       "994    838    SC      M   43          9  12310588         2            1   \n",
       "995    610    SC      M   29          9         0         3            0   \n",
       "996    811    SC      M   44          3         0         2            0   \n",
       "997    587    SC      M   62          7  12128627         1            0   \n",
       "998    811    PR      F   28          4  16773882         2            1   \n",
       "\n",
       "     active  approved_credit  \n",
       "0         1                1  \n",
       "1         1                0  \n",
       "2         0                1  \n",
       "3         0                0  \n",
       "4         1                0  \n",
       "..      ...              ...  \n",
       "994       0                0  \n",
       "995       1                0  \n",
       "996       1                0  \n",
       "997       1                0  \n",
       "998       1                0  \n",
       "\n",
       "[999 rows x 10 columns]"
      ]
     },
     "execution_count": 97,
     "metadata": {},
     "output_type": "execute_result"
    }
   ],
   "source": [
    "# carregando a base de dados\n",
    "dataset = pd.read_csv('../dataset/normalized.csv')\n",
    "dataset"
   ]
  },
  {
   "cell_type": "code",
   "execution_count": 98,
   "metadata": {},
   "outputs": [],
   "source": [
    "# transformação de dados codificação de variáveis categóricas\n",
    "cols = ['score','state', 'gender', 'age', 'patrimony', 'balance', 'products', 'credit_card', 'active']\n",
    "\n",
    "# Importe o LabelEncoder\n",
    "le = LabelEncoder()\n",
    "\n",
    "# Iterar sobre as colunas categóricas e aplicar o LabelEncoder a cada uma delas\n",
    "for col in cols:\n",
    "    dataset[col] = le.fit_transform(dataset[col])"
   ]
  },
  {
   "cell_type": "code",
   "execution_count": 99,
   "metadata": {},
   "outputs": [],
   "source": [
    "# previsores\n",
    "X = dataset\n",
    "X = X.drop(columns=['approved_credit'])"
   ]
  },
  {
   "cell_type": "code",
   "execution_count": 100,
   "metadata": {},
   "outputs": [],
   "source": [
    "# classe de saída\n",
    "y = dataset['approved_credit']"
   ]
  },
  {
   "cell_type": "markdown",
   "metadata": {},
   "source": [
    "# Dividindo a base de dados em treino e teste"
   ]
  },
  {
   "cell_type": "code",
   "execution_count": 101,
   "metadata": {},
   "outputs": [],
   "source": [
    "# dividindo a base de dados em treino e teste, 20% para teste\n",
    "X_train, X_test, y_train, y_test = train_test_split(X, y, test_size=0.2, random_state=42, stratify=y)"
   ]
  },
  {
   "cell_type": "markdown",
   "metadata": {},
   "source": [
    "# Modelo KNN"
   ]
  },
  {
   "cell_type": "code",
   "execution_count": 102,
   "metadata": {},
   "outputs": [
    {
     "data": {
      "text/html": [
       "<style>#sk-container-id-11 {color: black;}#sk-container-id-11 pre{padding: 0;}#sk-container-id-11 div.sk-toggleable {background-color: white;}#sk-container-id-11 label.sk-toggleable__label {cursor: pointer;display: block;width: 100%;margin-bottom: 0;padding: 0.3em;box-sizing: border-box;text-align: center;}#sk-container-id-11 label.sk-toggleable__label-arrow:before {content: \"▸\";float: left;margin-right: 0.25em;color: #696969;}#sk-container-id-11 label.sk-toggleable__label-arrow:hover:before {color: black;}#sk-container-id-11 div.sk-estimator:hover label.sk-toggleable__label-arrow:before {color: black;}#sk-container-id-11 div.sk-toggleable__content {max-height: 0;max-width: 0;overflow: hidden;text-align: left;background-color: #f0f8ff;}#sk-container-id-11 div.sk-toggleable__content pre {margin: 0.2em;color: black;border-radius: 0.25em;background-color: #f0f8ff;}#sk-container-id-11 input.sk-toggleable__control:checked~div.sk-toggleable__content {max-height: 200px;max-width: 100%;overflow: auto;}#sk-container-id-11 input.sk-toggleable__control:checked~label.sk-toggleable__label-arrow:before {content: \"▾\";}#sk-container-id-11 div.sk-estimator input.sk-toggleable__control:checked~label.sk-toggleable__label {background-color: #d4ebff;}#sk-container-id-11 div.sk-label input.sk-toggleable__control:checked~label.sk-toggleable__label {background-color: #d4ebff;}#sk-container-id-11 input.sk-hidden--visually {border: 0;clip: rect(1px 1px 1px 1px);clip: rect(1px, 1px, 1px, 1px);height: 1px;margin: -1px;overflow: hidden;padding: 0;position: absolute;width: 1px;}#sk-container-id-11 div.sk-estimator {font-family: monospace;background-color: #f0f8ff;border: 1px dotted black;border-radius: 0.25em;box-sizing: border-box;margin-bottom: 0.5em;}#sk-container-id-11 div.sk-estimator:hover {background-color: #d4ebff;}#sk-container-id-11 div.sk-parallel-item::after {content: \"\";width: 100%;border-bottom: 1px solid gray;flex-grow: 1;}#sk-container-id-11 div.sk-label:hover label.sk-toggleable__label {background-color: #d4ebff;}#sk-container-id-11 div.sk-serial::before {content: \"\";position: absolute;border-left: 1px solid gray;box-sizing: border-box;top: 0;bottom: 0;left: 50%;z-index: 0;}#sk-container-id-11 div.sk-serial {display: flex;flex-direction: column;align-items: center;background-color: white;padding-right: 0.2em;padding-left: 0.2em;position: relative;}#sk-container-id-11 div.sk-item {position: relative;z-index: 1;}#sk-container-id-11 div.sk-parallel {display: flex;align-items: stretch;justify-content: center;background-color: white;position: relative;}#sk-container-id-11 div.sk-item::before, #sk-container-id-11 div.sk-parallel-item::before {content: \"\";position: absolute;border-left: 1px solid gray;box-sizing: border-box;top: 0;bottom: 0;left: 50%;z-index: -1;}#sk-container-id-11 div.sk-parallel-item {display: flex;flex-direction: column;z-index: 1;position: relative;background-color: white;}#sk-container-id-11 div.sk-parallel-item:first-child::after {align-self: flex-end;width: 50%;}#sk-container-id-11 div.sk-parallel-item:last-child::after {align-self: flex-start;width: 50%;}#sk-container-id-11 div.sk-parallel-item:only-child::after {width: 0;}#sk-container-id-11 div.sk-dashed-wrapped {border: 1px dashed gray;margin: 0 0.4em 0.5em 0.4em;box-sizing: border-box;padding-bottom: 0.4em;background-color: white;}#sk-container-id-11 div.sk-label label {font-family: monospace;font-weight: bold;display: inline-block;line-height: 1.2em;}#sk-container-id-11 div.sk-label-container {text-align: center;}#sk-container-id-11 div.sk-container {/* jupyter's `normalize.less` sets `[hidden] { display: none; }` but bootstrap.min.css set `[hidden] { display: none !important; }` so we also need the `!important` here to be able to override the default hidden behavior on the sphinx rendered scikit-learn.org. See: https://github.com/scikit-learn/scikit-learn/issues/21755 */display: inline-block !important;position: relative;}#sk-container-id-11 div.sk-text-repr-fallback {display: none;}</style><div id=\"sk-container-id-11\" class=\"sk-top-container\"><div class=\"sk-text-repr-fallback\"><pre>KNeighborsClassifier(n_neighbors=3)</pre><b>In a Jupyter environment, please rerun this cell to show the HTML representation or trust the notebook. <br />On GitHub, the HTML representation is unable to render, please try loading this page with nbviewer.org.</b></div><div class=\"sk-container\" hidden><div class=\"sk-item\"><div class=\"sk-estimator sk-toggleable\"><input class=\"sk-toggleable__control sk-hidden--visually\" id=\"sk-estimator-id-11\" type=\"checkbox\" checked><label for=\"sk-estimator-id-11\" class=\"sk-toggleable__label sk-toggleable__label-arrow\">KNeighborsClassifier</label><div class=\"sk-toggleable__content\"><pre>KNeighborsClassifier(n_neighbors=3)</pre></div></div></div></div></div>"
      ],
      "text/plain": [
       "KNeighborsClassifier(n_neighbors=3)"
      ]
     },
     "execution_count": 102,
     "metadata": {},
     "output_type": "execute_result"
    }
   ],
   "source": [
    "# Criando e treinando o modelo KNN\n",
    "knn = KNeighborsClassifier(n_neighbors=3)\n",
    "knn.fit(X_train, y_train)"
   ]
  },
  {
   "cell_type": "code",
   "execution_count": 103,
   "metadata": {},
   "outputs": [],
   "source": [
    "# Fazendo as previsões no conjunto de teste\n",
    "y_pred_knn = knn.predict(X_test)"
   ]
  },
  {
   "cell_type": "code",
   "execution_count": 104,
   "metadata": {},
   "outputs": [
    {
     "name": "stdout",
     "output_type": "stream",
     "text": [
      "              precision    recall  f1-score   support\n",
      "\n",
      "           0       0.81      0.91      0.86       159\n",
      "           1       0.33      0.17      0.23        41\n",
      "\n",
      "    accuracy                           0.76       200\n",
      "   macro avg       0.57      0.54      0.54       200\n",
      "weighted avg       0.71      0.76      0.73       200\n",
      "\n"
     ]
    }
   ],
   "source": [
    "# relatório de desempenho do modelo KNN\n",
    "print(classification_report(y_test, y_pred_knn))"
   ]
  },
  {
   "cell_type": "code",
   "execution_count": 105,
   "metadata": {},
   "outputs": [
    {
     "data": {
      "text/plain": [
       "<sklearn.metrics._plot.confusion_matrix.ConfusionMatrixDisplay at 0x2995899d0>"
      ]
     },
     "execution_count": 105,
     "metadata": {},
     "output_type": "execute_result"
    },
    {
     "data": {
      "image/png": "[encoded data removed]",
      "text/plain": [
       "<Figure size 640x480 with 2 Axes>"
      ]
     },
     "metadata": {},
     "output_type": "display_data"
    }
   ],
   "source": [
    "# Crie a matriz de confusão\n",
    "confMatrixKNN = ConfusionMatrixDisplay(confusion_matrix=confusion_matrix(y_test, y_pred_knn))\n",
    "confMatrixKNN.plot()"
   ]
  },
  {
   "cell_type": "markdown",
   "metadata": {},
   "source": [
    "# Modelo Random Forest"
   ]
  },
  {
   "cell_type": "code",
   "execution_count": 106,
   "metadata": {},
   "outputs": [
    {
     "data": {
      "text/html": [
       "<style>#sk-container-id-12 {color: black;}#sk-container-id-12 pre{padding: 0;}#sk-container-id-12 div.sk-toggleable {background-color: white;}#sk-container-id-12 label.sk-toggleable__label {cursor: pointer;display: block;width: 100%;margin-bottom: 0;padding: 0.3em;box-sizing: border-box;text-align: center;}#sk-container-id-12 label.sk-toggleable__label-arrow:before {content: \"▸\";float: left;margin-right: 0.25em;color: #696969;}#sk-container-id-12 label.sk-toggleable__label-arrow:hover:before {color: black;}#sk-container-id-12 div.sk-estimator:hover label.sk-toggleable__label-arrow:before {color: black;}#sk-container-id-12 div.sk-toggleable__content {max-height: 0;max-width: 0;overflow: hidden;text-align: left;background-color: #f0f8ff;}#sk-container-id-12 div.sk-toggleable__content pre {margin: 0.2em;color: black;border-radius: 0.25em;background-color: #f0f8ff;}#sk-container-id-12 input.sk-toggleable__control:checked~div.sk-toggleable__content {max-height: 200px;max-width: 100%;overflow: auto;}#sk-container-id-12 input.sk-toggleable__control:checked~label.sk-toggleable__label-arrow:before {content: \"▾\";}#sk-container-id-12 div.sk-estimator input.sk-toggleable__control:checked~label.sk-toggleable__label {background-color: #d4ebff;}#sk-container-id-12 div.sk-label input.sk-toggleable__control:checked~label.sk-toggleable__label {background-color: #d4ebff;}#sk-container-id-12 input.sk-hidden--visually {border: 0;clip: rect(1px 1px 1px 1px);clip: rect(1px, 1px, 1px, 1px);height: 1px;margin: -1px;overflow: hidden;padding: 0;position: absolute;width: 1px;}#sk-container-id-12 div.sk-estimator {font-family: monospace;background-color: #f0f8ff;border: 1px dotted black;border-radius: 0.25em;box-sizing: border-box;margin-bottom: 0.5em;}#sk-container-id-12 div.sk-estimator:hover {background-color: #d4ebff;}#sk-container-id-12 div.sk-parallel-item::after {content: \"\";width: 100%;border-bottom: 1px solid gray;flex-grow: 1;}#sk-container-id-12 div.sk-label:hover label.sk-toggleable__label {background-color: #d4ebff;}#sk-container-id-12 div.sk-serial::before {content: \"\";position: absolute;border-left: 1px solid gray;box-sizing: border-box;top: 0;bottom: 0;left: 50%;z-index: 0;}#sk-container-id-12 div.sk-serial {display: flex;flex-direction: column;align-items: center;background-color: white;padding-right: 0.2em;padding-left: 0.2em;position: relative;}#sk-container-id-12 div.sk-item {position: relative;z-index: 1;}#sk-container-id-12 div.sk-parallel {display: flex;align-items: stretch;justify-content: center;background-color: white;position: relative;}#sk-container-id-12 div.sk-item::before, #sk-container-id-12 div.sk-parallel-item::before {content: \"\";position: absolute;border-left: 1px solid gray;box-sizing: border-box;top: 0;bottom: 0;left: 50%;z-index: -1;}#sk-container-id-12 div.sk-parallel-item {display: flex;flex-direction: column;z-index: 1;position: relative;background-color: white;}#sk-container-id-12 div.sk-parallel-item:first-child::after {align-self: flex-end;width: 50%;}#sk-container-id-12 div.sk-parallel-item:last-child::after {align-self: flex-start;width: 50%;}#sk-container-id-12 div.sk-parallel-item:only-child::after {width: 0;}#sk-container-id-12 div.sk-dashed-wrapped {border: 1px dashed gray;margin: 0 0.4em 0.5em 0.4em;box-sizing: border-box;padding-bottom: 0.4em;background-color: white;}#sk-container-id-12 div.sk-label label {font-family: monospace;font-weight: bold;display: inline-block;line-height: 1.2em;}#sk-container-id-12 div.sk-label-container {text-align: center;}#sk-container-id-12 div.sk-container {/* jupyter's `normalize.less` sets `[hidden] { display: none; }` but bootstrap.min.css set `[hidden] { display: none !important; }` so we also need the `!important` here to be able to override the default hidden behavior on the sphinx rendered scikit-learn.org. See: https://github.com/scikit-learn/scikit-learn/issues/21755 */display: inline-block !important;position: relative;}#sk-container-id-12 div.sk-text-repr-fallback {display: none;}</style><div id=\"sk-container-id-12\" class=\"sk-top-container\"><div class=\"sk-text-repr-fallback\"><pre>RandomForestClassifier(random_state=42)</pre><b>In a Jupyter environment, please rerun this cell to show the HTML representation or trust the notebook. <br />On GitHub, the HTML representation is unable to render, please try loading this page with nbviewer.org.</b></div><div class=\"sk-container\" hidden><div class=\"sk-item\"><div class=\"sk-estimator sk-toggleable\"><input class=\"sk-toggleable__control sk-hidden--visually\" id=\"sk-estimator-id-12\" type=\"checkbox\" checked><label for=\"sk-estimator-id-12\" class=\"sk-toggleable__label sk-toggleable__label-arrow\">RandomForestClassifier</label><div class=\"sk-toggleable__content\"><pre>RandomForestClassifier(random_state=42)</pre></div></div></div></div></div>"
      ],
      "text/plain": [
       "RandomForestClassifier(random_state=42)"
      ]
     },
     "execution_count": 106,
     "metadata": {},
     "output_type": "execute_result"
    }
   ],
   "source": [
    "# criando modelo random forest\n",
    "random_forest = RandomForestClassifier(n_estimators=100, random_state=42)\n",
    "random_forest.fit(X_train, y_train)"
   ]
  },
  {
   "cell_type": "code",
   "execution_count": 107,
   "metadata": {},
   "outputs": [],
   "source": [
    "# fazendo a previsão dos conjuntos de teste\n",
    "y_pred_RF = random_forest.predict(X_test)"
   ]
  },
  {
   "cell_type": "code",
   "execution_count": 108,
   "metadata": {},
   "outputs": [
    {
     "name": "stdout",
     "output_type": "stream",
     "text": [
      "              precision    recall  f1-score   support\n",
      "\n",
      "           0       0.86      0.96      0.91       159\n",
      "           1       0.74      0.41      0.53        41\n",
      "\n",
      "    accuracy                           0.85       200\n",
      "   macro avg       0.80      0.69      0.72       200\n",
      "weighted avg       0.84      0.85      0.83       200\n",
      "\n"
     ]
    }
   ],
   "source": [
    "# relatório de desempenho do modelo Random Forest\n",
    "print(classification_report(y_test, y_pred_RF))"
   ]
  },
  {
   "cell_type": "code",
   "execution_count": 109,
   "metadata": {},
   "outputs": [
    {
     "data": {
      "text/plain": [
       "<sklearn.metrics._plot.confusion_matrix.ConfusionMatrixDisplay at 0x29966fd90>"
      ]
     },
     "execution_count": 109,
     "metadata": {},
     "output_type": "execute_result"
    },
    {
     "data": {
      "image/png": "[encoded data removed]",
      "text/plain": [
       "<Figure size 640x480 with 2 Axes>"
      ]
     },
     "metadata": {},
     "output_type": "display_data"
    }
   ],
   "source": [
    "# Crie a matriz de confusão\n",
    "confMatrixRF = ConfusionMatrixDisplay(confusion_matrix=confusion_matrix(y_test, y_pred_RF))\n",
    "confMatrixRF.plot()"
   ]
  },
  {
   "cell_type": "markdown",
   "metadata": {},
   "source": [
    "# Modelo SVM"
   ]
  },
  {
   "cell_type": "code",
   "execution_count": 110,
   "metadata": {},
   "outputs": [
    {
     "data": {
      "text/html": [
       "<style>#sk-container-id-13 {color: black;}#sk-container-id-13 pre{padding: 0;}#sk-container-id-13 div.sk-toggleable {background-color: white;}#sk-container-id-13 label.sk-toggleable__label {cursor: pointer;display: block;width: 100%;margin-bottom: 0;padding: 0.3em;box-sizing: border-box;text-align: center;}#sk-container-id-13 label.sk-toggleable__label-arrow:before {content: \"▸\";float: left;margin-right: 0.25em;color: #696969;}#sk-container-id-13 label.sk-toggleable__label-arrow:hover:before {color: black;}#sk-container-id-13 div.sk-estimator:hover label.sk-toggleable__label-arrow:before {color: black;}#sk-container-id-13 div.sk-toggleable__content {max-height: 0;max-width: 0;overflow: hidden;text-align: left;background-color: #f0f8ff;}#sk-container-id-13 div.sk-toggleable__content pre {margin: 0.2em;color: black;border-radius: 0.25em;background-color: #f0f8ff;}#sk-container-id-13 input.sk-toggleable__control:checked~div.sk-toggleable__content {max-height: 200px;max-width: 100%;overflow: auto;}#sk-container-id-13 input.sk-toggleable__control:checked~label.sk-toggleable__label-arrow:before {content: \"▾\";}#sk-container-id-13 div.sk-estimator input.sk-toggleable__control:checked~label.sk-toggleable__label {background-color: #d4ebff;}#sk-container-id-13 div.sk-label input.sk-toggleable__control:checked~label.sk-toggleable__label {background-color: #d4ebff;}#sk-container-id-13 input.sk-hidden--visually {border: 0;clip: rect(1px 1px 1px 1px);clip: rect(1px, 1px, 1px, 1px);height: 1px;margin: -1px;overflow: hidden;padding: 0;position: absolute;width: 1px;}#sk-container-id-13 div.sk-estimator {font-family: monospace;background-color: #f0f8ff;border: 1px dotted black;border-radius: 0.25em;box-sizing: border-box;margin-bottom: 0.5em;}#sk-container-id-13 div.sk-estimator:hover {background-color: #d4ebff;}#sk-container-id-13 div.sk-parallel-item::after {content: \"\";width: 100%;border-bottom: 1px solid gray;flex-grow: 1;}#sk-container-id-13 div.sk-label:hover label.sk-toggleable__label {background-color: #d4ebff;}#sk-container-id-13 div.sk-serial::before {content: \"\";position: absolute;border-left: 1px solid gray;box-sizing: border-box;top: 0;bottom: 0;left: 50%;z-index: 0;}#sk-container-id-13 div.sk-serial {display: flex;flex-direction: column;align-items: center;background-color: white;padding-right: 0.2em;padding-left: 0.2em;position: relative;}#sk-container-id-13 div.sk-item {position: relative;z-index: 1;}#sk-container-id-13 div.sk-parallel {display: flex;align-items: stretch;justify-content: center;background-color: white;position: relative;}#sk-container-id-13 div.sk-item::before, #sk-container-id-13 div.sk-parallel-item::before {content: \"\";position: absolute;border-left: 1px solid gray;box-sizing: border-box;top: 0;bottom: 0;left: 50%;z-index: -1;}#sk-container-id-13 div.sk-parallel-item {display: flex;flex-direction: column;z-index: 1;position: relative;background-color: white;}#sk-container-id-13 div.sk-parallel-item:first-child::after {align-self: flex-end;width: 50%;}#sk-container-id-13 div.sk-parallel-item:last-child::after {align-self: flex-start;width: 50%;}#sk-container-id-13 div.sk-parallel-item:only-child::after {width: 0;}#sk-container-id-13 div.sk-dashed-wrapped {border: 1px dashed gray;margin: 0 0.4em 0.5em 0.4em;box-sizing: border-box;padding-bottom: 0.4em;background-color: white;}#sk-container-id-13 div.sk-label label {font-family: monospace;font-weight: bold;display: inline-block;line-height: 1.2em;}#sk-container-id-13 div.sk-label-container {text-align: center;}#sk-container-id-13 div.sk-container {/* jupyter's `normalize.less` sets `[hidden] { display: none; }` but bootstrap.min.css set `[hidden] { display: none !important; }` so we also need the `!important` here to be able to override the default hidden behavior on the sphinx rendered scikit-learn.org. See: https://github.com/scikit-learn/scikit-learn/issues/21755 */display: inline-block !important;position: relative;}#sk-container-id-13 div.sk-text-repr-fallback {display: none;}</style><div id=\"sk-container-id-13\" class=\"sk-top-container\"><div class=\"sk-text-repr-fallback\"><pre>SVC()</pre><b>In a Jupyter environment, please rerun this cell to show the HTML representation or trust the notebook. <br />On GitHub, the HTML representation is unable to render, please try loading this page with nbviewer.org.</b></div><div class=\"sk-container\" hidden><div class=\"sk-item\"><div class=\"sk-estimator sk-toggleable\"><input class=\"sk-toggleable__control sk-hidden--visually\" id=\"sk-estimator-id-13\" type=\"checkbox\" checked><label for=\"sk-estimator-id-13\" class=\"sk-toggleable__label sk-toggleable__label-arrow\">SVC</label><div class=\"sk-toggleable__content\"><pre>SVC()</pre></div></div></div></div></div>"
      ],
      "text/plain": [
       "SVC()"
      ]
     },
     "execution_count": 110,
     "metadata": {},
     "output_type": "execute_result"
    }
   ],
   "source": [
    "# criando modelo SVM\n",
    "svm=SVC()\n",
    "svm.fit(X_train, y_train)"
   ]
  },
  {
   "cell_type": "code",
   "execution_count": 111,
   "metadata": {},
   "outputs": [],
   "source": [
    "# fazendo a previsão dos conjuntos de teste\n",
    "y_pred_svm = svm.predict(X_test)"
   ]
  },
  {
   "cell_type": "code",
   "execution_count": 112,
   "metadata": {},
   "outputs": [
    {
     "name": "stdout",
     "output_type": "stream",
     "text": [
      "              precision    recall  f1-score   support\n",
      "\n",
      "           0       0.86      0.96      0.91       159\n",
      "           1       0.74      0.41      0.53        41\n",
      "\n",
      "    accuracy                           0.85       200\n",
      "   macro avg       0.80      0.69      0.72       200\n",
      "weighted avg       0.84      0.85      0.83       200\n",
      "\n"
     ]
    }
   ],
   "source": [
    "# relatório de desempenho do modelo SVM\n",
    "print(classification_report(y_test, y_pred_RF))"
   ]
  },
  {
   "cell_type": "code",
   "execution_count": 113,
   "metadata": {},
   "outputs": [
    {
     "data": {
      "text/plain": [
       "<sklearn.metrics._plot.confusion_matrix.ConfusionMatrixDisplay at 0x299649d50>"
      ]
     },
     "execution_count": 113,
     "metadata": {},
     "output_type": "execute_result"
    },
    {
     "data": {
      "image/png": "[encoded data removed]",
      "text/plain": [
       "<Figure size 640x480 with 2 Axes>"
      ]
     },
     "metadata": {},
     "output_type": "display_data"
    }
   ],
   "source": [
    "# Crie a matriz de confusão\n",
    "confMatrixSVM = ConfusionMatrixDisplay(confusion_matrix=confusion_matrix(y_test, y_pred_svm))\n",
    "confMatrixSVM.plot()"
   ]
  },
  {
   "cell_type": "markdown",
   "metadata": {},
   "source": [
    "# Modelo Árvore de Decisão"
   ]
  },
  {
   "cell_type": "code",
   "execution_count": 114,
   "metadata": {},
   "outputs": [
    {
     "data": {
      "text/html": [
       "<style>#sk-container-id-14 {color: black;}#sk-container-id-14 pre{padding: 0;}#sk-container-id-14 div.sk-toggleable {background-color: white;}#sk-container-id-14 label.sk-toggleable__label {cursor: pointer;display: block;width: 100%;margin-bottom: 0;padding: 0.3em;box-sizing: border-box;text-align: center;}#sk-container-id-14 label.sk-toggleable__label-arrow:before {content: \"▸\";float: left;margin-right: 0.25em;color: #696969;}#sk-container-id-14 label.sk-toggleable__label-arrow:hover:before {color: black;}#sk-container-id-14 div.sk-estimator:hover label.sk-toggleable__label-arrow:before {color: black;}#sk-container-id-14 div.sk-toggleable__content {max-height: 0;max-width: 0;overflow: hidden;text-align: left;background-color: #f0f8ff;}#sk-container-id-14 div.sk-toggleable__content pre {margin: 0.2em;color: black;border-radius: 0.25em;background-color: #f0f8ff;}#sk-container-id-14 input.sk-toggleable__control:checked~div.sk-toggleable__content {max-height: 200px;max-width: 100%;overflow: auto;}#sk-container-id-14 input.sk-toggleable__control:checked~label.sk-toggleable__label-arrow:before {content: \"▾\";}#sk-container-id-14 div.sk-estimator input.sk-toggleable__control:checked~label.sk-toggleable__label {background-color: #d4ebff;}#sk-container-id-14 div.sk-label input.sk-toggleable__control:checked~label.sk-toggleable__label {background-color: #d4ebff;}#sk-container-id-14 input.sk-hidden--visually {border: 0;clip: rect(1px 1px 1px 1px);clip: rect(1px, 1px, 1px, 1px);height: 1px;margin: -1px;overflow: hidden;padding: 0;position: absolute;width: 1px;}#sk-container-id-14 div.sk-estimator {font-family: monospace;background-color: #f0f8ff;border: 1px dotted black;border-radius: 0.25em;box-sizing: border-box;margin-bottom: 0.5em;}#sk-container-id-14 div.sk-estimator:hover {background-color: #d4ebff;}#sk-container-id-14 div.sk-parallel-item::after {content: \"\";width: 100%;border-bottom: 1px solid gray;flex-grow: 1;}#sk-container-id-14 div.sk-label:hover label.sk-toggleable__label {background-color: #d4ebff;}#sk-container-id-14 div.sk-serial::before {content: \"\";position: absolute;border-left: 1px solid gray;box-sizing: border-box;top: 0;bottom: 0;left: 50%;z-index: 0;}#sk-container-id-14 div.sk-serial {display: flex;flex-direction: column;align-items: center;background-color: white;padding-right: 0.2em;padding-left: 0.2em;position: relative;}#sk-container-id-14 div.sk-item {position: relative;z-index: 1;}#sk-container-id-14 div.sk-parallel {display: flex;align-items: stretch;justify-content: center;background-color: white;position: relative;}#sk-container-id-14 div.sk-item::before, #sk-container-id-14 div.sk-parallel-item::before {content: \"\";position: absolute;border-left: 1px solid gray;box-sizing: border-box;top: 0;bottom: 0;left: 50%;z-index: -1;}#sk-container-id-14 div.sk-parallel-item {display: flex;flex-direction: column;z-index: 1;position: relative;background-color: white;}#sk-container-id-14 div.sk-parallel-item:first-child::after {align-self: flex-end;width: 50%;}#sk-container-id-14 div.sk-parallel-item:last-child::after {align-self: flex-start;width: 50%;}#sk-container-id-14 div.sk-parallel-item:only-child::after {width: 0;}#sk-container-id-14 div.sk-dashed-wrapped {border: 1px dashed gray;margin: 0 0.4em 0.5em 0.4em;box-sizing: border-box;padding-bottom: 0.4em;background-color: white;}#sk-container-id-14 div.sk-label label {font-family: monospace;font-weight: bold;display: inline-block;line-height: 1.2em;}#sk-container-id-14 div.sk-label-container {text-align: center;}#sk-container-id-14 div.sk-container {/* jupyter's `normalize.less` sets `[hidden] { display: none; }` but bootstrap.min.css set `[hidden] { display: none !important; }` so we also need the `!important` here to be able to override the default hidden behavior on the sphinx rendered scikit-learn.org. See: https://github.com/scikit-learn/scikit-learn/issues/21755 */display: inline-block !important;position: relative;}#sk-container-id-14 div.sk-text-repr-fallback {display: none;}</style><div id=\"sk-container-id-14\" class=\"sk-top-container\"><div class=\"sk-text-repr-fallback\"><pre>DecisionTreeClassifier()</pre><b>In a Jupyter environment, please rerun this cell to show the HTML representation or trust the notebook. <br />On GitHub, the HTML representation is unable to render, please try loading this page with nbviewer.org.</b></div><div class=\"sk-container\" hidden><div class=\"sk-item\"><div class=\"sk-estimator sk-toggleable\"><input class=\"sk-toggleable__control sk-hidden--visually\" id=\"sk-estimator-id-14\" type=\"checkbox\" checked><label for=\"sk-estimator-id-14\" class=\"sk-toggleable__label sk-toggleable__label-arrow\">DecisionTreeClassifier</label><div class=\"sk-toggleable__content\"><pre>DecisionTreeClassifier()</pre></div></div></div></div></div>"
      ],
      "text/plain": [
       "DecisionTreeClassifier()"
      ]
     },
     "execution_count": 114,
     "metadata": {},
     "output_type": "execute_result"
    }
   ],
   "source": [
    "# criando modelo de árvore de decisão\n",
    "tree = DecisionTreeClassifier()\n",
    "tree.fit(X_train, y_train)"
   ]
  },
  {
   "cell_type": "code",
   "execution_count": 115,
   "metadata": {},
   "outputs": [],
   "source": [
    "# fazendo a previsão dos conjuntos de teste\n",
    "y_pred_tree = tree.predict(X_test)"
   ]
  },
  {
   "cell_type": "code",
   "execution_count": 116,
   "metadata": {},
   "outputs": [
    {
     "name": "stdout",
     "output_type": "stream",
     "text": [
      "              precision    recall  f1-score   support\n",
      "\n",
      "           0       0.85      0.86      0.86       159\n",
      "           1       0.44      0.41      0.43        41\n",
      "\n",
      "    accuracy                           0.77       200\n",
      "   macro avg       0.64      0.64      0.64       200\n",
      "weighted avg       0.77      0.77      0.77       200\n",
      "\n"
     ]
    }
   ],
   "source": [
    "# relatório de desempenho do modelo de árvore de decisão\n",
    "print(classification_report(y_test, y_pred_tree))"
   ]
  },
  {
   "cell_type": "code",
   "execution_count": 117,
   "metadata": {},
   "outputs": [
    {
     "data": {
      "text/plain": [
       "<sklearn.metrics._plot.confusion_matrix.ConfusionMatrixDisplay at 0x29978fd90>"
      ]
     },
     "execution_count": 117,
     "metadata": {},
     "output_type": "execute_result"
    },
    {
     "data": {
      "image/png": "[encoded data removed]",
      "text/plain": [
       "<Figure size 640x480 with 2 Axes>"
      ]
     },
     "metadata": {},
     "output_type": "display_data"
    }
   ],
   "source": [
    "# Crie a matriz de confusão\n",
    "confMatrixDecisionTree = ConfusionMatrixDisplay(confusion_matrix=confusion_matrix(y_test, y_pred_tree))\n",
    "confMatrixDecisionTree.plot()"
   ]
  },
  {
   "cell_type": "markdown",
   "metadata": {},
   "source": [
    "# Modelo RNA"
   ]
  },
  {
   "cell_type": "code",
   "execution_count": 118,
   "metadata": {},
   "outputs": [],
   "source": [
    "# Crie a arquitetura da RNA\n",
    "model = Sequential()\n",
    "\n",
    "# Adicione a primeira camada densamente conectada\n",
    "# Ela tem 3 neurônios (ou unidades) e usa a função de ativação 'relu'\n",
    "# input_shape número de características do conjunto de treinamento\n",
    "model.add(Dense(1, activation='relu', input_shape=(X_train.shape[1],)))\n",
    "\n",
    "# Adicione a segunda camada densamente conectada\n",
    "# Esta é a primeira camada oculta\n",
    "# Ela tem 100 neurônios e usa a função de ativação 'relu'\n",
    "model.add(Dense(100, activation='relu'))\n",
    "\n",
    "# Adicione a terceira camada densamente conectada\n",
    "# Esta é a camada de saída\n",
    "# sigmoid para classificação binária\n",
    "model.add(Dense(1, activation='sigmoid'))"
   ]
  },
  {
   "cell_type": "code",
   "execution_count": 119,
   "metadata": {},
   "outputs": [
    {
     "name": "stderr",
     "output_type": "stream",
     "text": [
      "WARNING:absl:At this time, the v2.11+ optimizer `tf.keras.optimizers.Adam` runs slowly on M1/M2 Macs, please use the legacy Keras optimizer instead, located at `tf.keras.optimizers.legacy.Adam`.\n"
     ]
    }
   ],
   "source": [
    "# Compilar o modelo\n",
    "model.compile(optimizer=Adam(learning_rate=0.001), loss='binary_crossentropy', metrics=['accuracy'])"
   ]
  },
  {
   "cell_type": "code",
   "execution_count": 120,
   "metadata": {},
   "outputs": [
    {
     "name": "stdout",
     "output_type": "stream",
     "text": [
      "Epoch 1/100\n"
     ]
    },
    {
     "name": "stdout",
     "output_type": "stream",
     "text": [
      "25/25 [==============================] - 0s 614us/step - loss: 0.6928 - accuracy: 0.7409\n",
      "Epoch 2/100\n",
      "25/25 [==============================] - 0s 560us/step - loss: 0.5834 - accuracy: 0.7972\n",
      "Epoch 3/100\n",
      "25/25 [==============================] - 0s 538us/step - loss: 0.5589 - accuracy: 0.7972\n",
      "Epoch 4/100\n",
      "25/25 [==============================] - 0s 506us/step - loss: 0.5508 - accuracy: 0.7972\n",
      "Epoch 5/100\n",
      "25/25 [==============================] - 0s 497us/step - loss: 0.5448 - accuracy: 0.7972\n",
      "Epoch 6/100\n",
      "25/25 [==============================] - 0s 455us/step - loss: 0.5390 - accuracy: 0.7972\n",
      "Epoch 7/100\n",
      "25/25 [==============================] - 0s 521us/step - loss: 0.5333 - accuracy: 0.7972\n",
      "Epoch 8/100\n",
      "25/25 [==============================] - 0s 562us/step - loss: 0.5285 - accuracy: 0.7972\n",
      "Epoch 9/100\n",
      "25/25 [==============================] - 0s 615us/step - loss: 0.5300 - accuracy: 0.7972\n",
      "Epoch 10/100\n",
      "25/25 [==============================] - 0s 555us/step - loss: 0.5214 - accuracy: 0.7972\n",
      "Epoch 11/100\n",
      "25/25 [==============================] - 0s 534us/step - loss: 0.5272 - accuracy: 0.7972\n",
      "Epoch 12/100\n",
      "25/25 [==============================] - 0s 454us/step - loss: 0.5171 - accuracy: 0.7972\n",
      "Epoch 13/100\n",
      "25/25 [==============================] - 0s 534us/step - loss: 0.5123 - accuracy: 0.7972\n",
      "Epoch 14/100\n",
      "25/25 [==============================] - 0s 482us/step - loss: 0.5163 - accuracy: 0.7972\n",
      "Epoch 15/100\n",
      "25/25 [==============================] - 0s 565us/step - loss: 0.5146 - accuracy: 0.7972\n",
      "Epoch 16/100\n",
      "25/25 [==============================] - 0s 560us/step - loss: 0.5113 - accuracy: 0.7972\n",
      "Epoch 17/100\n",
      "25/25 [==============================] - 0s 570us/step - loss: 0.5120 - accuracy: 0.7972\n",
      "Epoch 18/100\n",
      "25/25 [==============================] - 0s 556us/step - loss: 0.5077 - accuracy: 0.7972\n",
      "Epoch 19/100\n",
      "25/25 [==============================] - 0s 521us/step - loss: 0.5086 - accuracy: 0.7972\n",
      "Epoch 20/100\n",
      "25/25 [==============================] - 0s 481us/step - loss: 0.5065 - accuracy: 0.7972\n",
      "Epoch 21/100\n",
      "25/25 [==============================] - 0s 467us/step - loss: 0.5088 - accuracy: 0.7972\n",
      "Epoch 22/100\n",
      "25/25 [==============================] - 0s 482us/step - loss: 0.5021 - accuracy: 0.7972\n",
      "Epoch 23/100\n",
      "25/25 [==============================] - 0s 549us/step - loss: 0.5105 - accuracy: 0.7972\n",
      "Epoch 24/100\n",
      "25/25 [==============================] - 0s 555us/step - loss: 0.5054 - accuracy: 0.7972\n",
      "Epoch 25/100\n",
      "25/25 [==============================] - 0s 550us/step - loss: 0.5028 - accuracy: 0.7972\n",
      "Epoch 26/100\n",
      "25/25 [==============================] - 0s 643us/step - loss: 0.5031 - accuracy: 0.7972\n",
      "Epoch 27/100\n",
      "25/25 [==============================] - 0s 553us/step - loss: 0.5088 - accuracy: 0.7972\n",
      "Epoch 28/100\n",
      "25/25 [==============================] - 0s 523us/step - loss: 0.5030 - accuracy: 0.7972\n",
      "Epoch 29/100\n",
      "25/25 [==============================] - 0s 461us/step - loss: 0.5023 - accuracy: 0.7972\n",
      "Epoch 30/100\n",
      "25/25 [==============================] - 0s 484us/step - loss: 0.4991 - accuracy: 0.7972\n",
      "Epoch 31/100\n",
      "25/25 [==============================] - 0s 495us/step - loss: 0.5057 - accuracy: 0.7972\n",
      "Epoch 32/100\n",
      "25/25 [==============================] - 0s 571us/step - loss: 0.5010 - accuracy: 0.7972\n",
      "Epoch 33/100\n",
      "25/25 [==============================] - 0s 526us/step - loss: 0.5060 - accuracy: 0.7972\n",
      "Epoch 34/100\n",
      "25/25 [==============================] - 0s 535us/step - loss: 0.5013 - accuracy: 0.7972\n",
      "Epoch 35/100\n",
      "25/25 [==============================] - 0s 512us/step - loss: 0.5003 - accuracy: 0.7972\n",
      "Epoch 36/100\n",
      "25/25 [==============================] - 0s 491us/step - loss: 0.5090 - accuracy: 0.7972\n",
      "Epoch 37/100\n",
      "25/25 [==============================] - 0s 463us/step - loss: 0.5036 - accuracy: 0.7972\n",
      "Epoch 38/100\n",
      "25/25 [==============================] - 0s 554us/step - loss: 0.5026 - accuracy: 0.7972\n",
      "Epoch 39/100\n",
      "25/25 [==============================] - 0s 549us/step - loss: 0.5007 - accuracy: 0.7972\n",
      "Epoch 40/100\n",
      "25/25 [==============================] - 0s 538us/step - loss: 0.5078 - accuracy: 0.7972\n",
      "Epoch 41/100\n",
      "25/25 [==============================] - 0s 543us/step - loss: 0.5033 - accuracy: 0.7972\n",
      "Epoch 42/100\n",
      "25/25 [==============================] - 0s 539us/step - loss: 0.5025 - accuracy: 0.7972\n",
      "Epoch 43/100\n",
      "25/25 [==============================] - 0s 434us/step - loss: 0.5135 - accuracy: 0.7972\n",
      "Epoch 44/100\n",
      "25/25 [==============================] - 0s 466us/step - loss: 0.5042 - accuracy: 0.7972\n",
      "Epoch 45/100\n",
      "25/25 [==============================] - 0s 488us/step - loss: 0.5006 - accuracy: 0.7972\n",
      "Epoch 46/100\n",
      "25/25 [==============================] - 0s 568us/step - loss: 0.5043 - accuracy: 0.7972\n",
      "Epoch 47/100\n",
      "25/25 [==============================] - 0s 579us/step - loss: 0.5003 - accuracy: 0.7972\n",
      "Epoch 48/100\n",
      "25/25 [==============================] - 0s 589us/step - loss: 0.4999 - accuracy: 0.7972\n",
      "Epoch 49/100\n",
      "25/25 [==============================] - 0s 596us/step - loss: 0.5063 - accuracy: 0.7972\n",
      "Epoch 50/100\n",
      "25/25 [==============================] - 0s 585us/step - loss: 0.5003 - accuracy: 0.7972\n",
      "Epoch 51/100\n",
      "25/25 [==============================] - 0s 547us/step - loss: 0.5080 - accuracy: 0.7972\n",
      "Epoch 52/100\n",
      "25/25 [==============================] - 0s 563us/step - loss: 0.5030 - accuracy: 0.7972\n",
      "Epoch 53/100\n",
      "25/25 [==============================] - 0s 451us/step - loss: 0.5173 - accuracy: 0.7972\n",
      "Epoch 54/100\n",
      "25/25 [==============================] - 0s 597us/step - loss: 0.5091 - accuracy: 0.7972\n",
      "Epoch 55/100\n",
      "25/25 [==============================] - 0s 478us/step - loss: 0.4989 - accuracy: 0.7972\n",
      "Epoch 56/100\n",
      "25/25 [==============================] - 0s 493us/step - loss: 0.5071 - accuracy: 0.7972\n",
      "Epoch 57/100\n",
      "25/25 [==============================] - 0s 532us/step - loss: 0.5027 - accuracy: 0.7972\n",
      "Epoch 58/100\n",
      "25/25 [==============================] - 0s 602us/step - loss: 0.5030 - accuracy: 0.7972\n",
      "Epoch 59/100\n",
      "25/25 [==============================] - 0s 539us/step - loss: 0.5067 - accuracy: 0.7972\n",
      "Epoch 60/100\n",
      "25/25 [==============================] - 0s 573us/step - loss: 0.4998 - accuracy: 0.7972\n",
      "Epoch 61/100\n",
      "25/25 [==============================] - 0s 744us/step - loss: 0.5044 - accuracy: 0.7972\n",
      "Epoch 62/100\n",
      "25/25 [==============================] - 0s 2ms/step - loss: 0.5019 - accuracy: 0.7972\n",
      "Epoch 63/100\n",
      "25/25 [==============================] - 0s 1ms/step - loss: 0.4974 - accuracy: 0.7972\n",
      "Epoch 64/100\n",
      "25/25 [==============================] - 0s 520us/step - loss: 0.4989 - accuracy: 0.7972\n",
      "Epoch 65/100\n",
      "25/25 [==============================] - 0s 552us/step - loss: 0.4975 - accuracy: 0.7972\n",
      "Epoch 66/100\n",
      "25/25 [==============================] - 0s 473us/step - loss: 0.5011 - accuracy: 0.7972\n",
      "Epoch 67/100\n",
      "25/25 [==============================] - 0s 572us/step - loss: 0.4997 - accuracy: 0.7972\n",
      "Epoch 68/100\n",
      "25/25 [==============================] - 0s 461us/step - loss: 0.5011 - accuracy: 0.7972\n",
      "Epoch 69/100\n",
      "25/25 [==============================] - 0s 528us/step - loss: 0.4992 - accuracy: 0.7972\n",
      "Epoch 70/100\n",
      "25/25 [==============================] - 0s 550us/step - loss: 0.5000 - accuracy: 0.7972\n",
      "Epoch 71/100\n",
      "25/25 [==============================] - 0s 542us/step - loss: 0.4990 - accuracy: 0.7972\n",
      "Epoch 72/100\n",
      "25/25 [==============================] - 0s 548us/step - loss: 0.4967 - accuracy: 0.7972\n",
      "Epoch 73/100\n",
      "25/25 [==============================] - 0s 543us/step - loss: 0.4990 - accuracy: 0.7972\n",
      "Epoch 74/100\n",
      "25/25 [==============================] - 0s 482us/step - loss: 0.5014 - accuracy: 0.7972\n",
      "Epoch 75/100\n",
      "25/25 [==============================] - 0s 561us/step - loss: 0.5042 - accuracy: 0.7972\n",
      "Epoch 76/100\n",
      "25/25 [==============================] - 0s 456us/step - loss: 0.4976 - accuracy: 0.7972\n",
      "Epoch 77/100\n",
      "25/25 [==============================] - 0s 545us/step - loss: 0.5137 - accuracy: 0.7972\n",
      "Epoch 78/100\n",
      "25/25 [==============================] - 0s 542us/step - loss: 0.4980 - accuracy: 0.7972\n",
      "Epoch 79/100\n",
      "25/25 [==============================] - 0s 464us/step - loss: 0.5000 - accuracy: 0.7972\n",
      "Epoch 80/100\n",
      "25/25 [==============================] - 0s 455us/step - loss: 0.4979 - accuracy: 0.7972\n",
      "Epoch 81/100\n",
      "25/25 [==============================] - 0s 448us/step - loss: 0.4979 - accuracy: 0.7972\n",
      "Epoch 82/100\n",
      "25/25 [==============================] - 0s 430us/step - loss: 0.4967 - accuracy: 0.7972\n",
      "Epoch 83/100\n",
      "25/25 [==============================] - 0s 435us/step - loss: 0.4973 - accuracy: 0.7972\n",
      "Epoch 84/100\n",
      "25/25 [==============================] - 0s 436us/step - loss: 0.4972 - accuracy: 0.7972\n",
      "Epoch 85/100\n",
      "25/25 [==============================] - 0s 419us/step - loss: 0.4968 - accuracy: 0.7972\n",
      "Epoch 86/100\n",
      "25/25 [==============================] - 0s 441us/step - loss: 0.4976 - accuracy: 0.7972\n",
      "Epoch 87/100\n",
      "25/25 [==============================] - 0s 439us/step - loss: 0.4977 - accuracy: 0.7972\n",
      "Epoch 88/100\n",
      "25/25 [==============================] - 0s 422us/step - loss: 0.4966 - accuracy: 0.7972\n",
      "Epoch 89/100\n",
      "25/25 [==============================] - 0s 416us/step - loss: 0.4976 - accuracy: 0.7972\n",
      "Epoch 90/100\n",
      "25/25 [==============================] - 0s 433us/step - loss: 0.4989 - accuracy: 0.7972\n",
      "Epoch 91/100\n",
      "25/25 [==============================] - 0s 424us/step - loss: 0.5043 - accuracy: 0.7972\n",
      "Epoch 92/100\n",
      "25/25 [==============================] - 0s 419us/step - loss: 0.4987 - accuracy: 0.7972\n",
      "Epoch 93/100\n",
      "25/25 [==============================] - 0s 426us/step - loss: 0.4993 - accuracy: 0.7972\n",
      "Epoch 94/100\n",
      "25/25 [==============================] - 0s 446us/step - loss: 0.4968 - accuracy: 0.7972\n",
      "Epoch 95/100\n",
      "25/25 [==============================] - 0s 426us/step - loss: 0.4972 - accuracy: 0.7972\n",
      "Epoch 96/100\n",
      "25/25 [==============================] - 0s 426us/step - loss: 0.4994 - accuracy: 0.7972\n",
      "Epoch 97/100\n",
      "25/25 [==============================] - 0s 420us/step - loss: 0.4966 - accuracy: 0.7972\n",
      "Epoch 98/100\n",
      "25/25 [==============================] - 0s 423us/step - loss: 0.4972 - accuracy: 0.7972\n",
      "Epoch 99/100\n",
      "25/25 [==============================] - 0s 428us/step - loss: 0.4974 - accuracy: 0.7972\n",
      "Epoch 100/100\n",
      "25/25 [==============================] - 0s 420us/step - loss: 0.4971 - accuracy: 0.7972\n"
     ]
    },
    {
     "data": {
      "text/plain": [
       "<keras.src.callbacks.History at 0x29979ba10>"
      ]
     },
     "execution_count": 120,
     "metadata": {},
     "output_type": "execute_result"
    }
   ],
   "source": [
    "# treina o modelo\n",
    "# atualiza o modelo após processar 32 lotes batch_size\n",
    "model.fit(X_train, y_train, epochs=100, batch_size=32)"
   ]
  },
  {
   "cell_type": "code",
   "execution_count": 121,
   "metadata": {},
   "outputs": [
    {
     "name": "stdout",
     "output_type": "stream",
     "text": [
      "7/7 [==============================] - 0s 464us/step\n"
     ]
    }
   ],
   "source": [
    "# Fazendo a previsão do conjunto de teste\n",
    "y_pred_RNA = model.predict(X_test)\n",
    "y_pred_RNA = le.inverse_transform(y_pred_RNA.argmax(axis=1))"
   ]
  },
  {
   "cell_type": "code",
   "execution_count": 122,
   "metadata": {},
   "outputs": [
    {
     "name": "stdout",
     "output_type": "stream",
     "text": [
      "              precision    recall  f1-score   support\n",
      "\n",
      "           0       0.85      0.86      0.86       159\n",
      "           1       0.44      0.41      0.43        41\n",
      "\n",
      "    accuracy                           0.77       200\n",
      "   macro avg       0.64      0.64      0.64       200\n",
      "weighted avg       0.77      0.77      0.77       200\n",
      "\n"
     ]
    }
   ],
   "source": [
    "# relatório de desempenho do modelo RNA\n",
    "print(classification_report(y_test, y_pred_tree))"
   ]
  },
  {
   "cell_type": "code",
   "execution_count": 124,
   "metadata": {},
   "outputs": [
    {
     "data": {
      "text/plain": [
       "<sklearn.metrics._plot.confusion_matrix.ConfusionMatrixDisplay at 0x2983d9510>"
      ]
     },
     "execution_count": 124,
     "metadata": {},
     "output_type": "execute_result"
    },
    {
     "data": {
      "image/png": "[encoded data removed]",
      "text/plain": [
       "<Figure size 640x480 with 2 Axes>"
      ]
     },
     "metadata": {},
     "output_type": "display_data"
    }
   ],
   "source": [
    "# Crie a matriz de confusão\n",
    "confMatrixRNA = ConfusionMatrixDisplay(confusion_matrix=confusion_matrix(y_test, y_pred_RNA))\n",
    "confMatrixRNA.plot()"
   ]
  }
 ],
 "metadata": {
  "kernelspec": {
   "display_name": "virtual-environment",
   "language": "python",
   "name": "virtual-environment"
  },
  "language_info": {
   "codemirror_mode": {
    "name": "ipython",
    "version": 3
   },
   "file_extension": ".py",
   "mimetype": "text/x-python",
   "name": "python",
   "nbconvert_exporter": "python",
   "pygments_lexer": "ipython3",
   "version": "3.11.4"
  }
 },
 "nbformat": 4,
 "nbformat_minor": 2
}
