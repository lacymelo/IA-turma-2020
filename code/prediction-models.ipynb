{
 "cells": [
  {
   "cell_type": "markdown",
   "metadata": {},
   "source": [
    "**Universidade Federal do Pará**\n",
    "\n",
    "**Mestrado em Computação Aplicada PPCA/Tucuruí**\n",
    "\n",
    "**Disciplina: Inteligência Artificial**\n",
    "\n",
    "Laciene Alves Melo\n",
    "\n",
    "---\n",
    "\n",
    "> Objetivo: Aplicar modelos para prever se o crédito do cliente deve ou não ser aprovado"
   ]
  },
  {
   "cell_type": "code",
   "execution_count": 243,
   "metadata": {},
   "outputs": [],
   "source": [
    "import pandas as pd\n",
    "# codificação de variáveis categóricas\n",
    "from sklearn.preprocessing import LabelEncoder\n",
    "from sklearn.metrics import classification_report\n",
    "# trenamento e teste\n",
    "from sklearn.model_selection import train_test_split\n",
    "# KNN\n",
    "from sklearn.neighbors import KNeighborsClassifier\n",
    "# matriz de confusão\n",
    "from sklearn.metrics import confusion_matrix, classification_report, ConfusionMatrixDisplay\n",
    "# Random Forest\n",
    "from sklearn.ensemble import RandomForestClassifier\n",
    "# SVM\n",
    "from sklearn.svm import SVC\n",
    "# Árvore de Decisão\n",
    "from sklearn.tree import DecisionTreeClassifier\n",
    "# RNA\n",
    "from tensorflow.keras.models import Sequential\n",
    "from tensorflow.keras.layers import Dense\n",
    "from tensorflow.keras.optimizers import Adam\n"
   ]
  },
  {
   "cell_type": "code",
   "execution_count": 244,
   "metadata": {},
   "outputs": [
    {
     "data": {
      "text/html": [
       "<div>\n",
       "<style scoped>\n",
       "    .dataframe tbody tr th:only-of-type {\n",
       "        vertical-align: middle;\n",
       "    }\n",
       "\n",
       "    .dataframe tbody tr th {\n",
       "        vertical-align: top;\n",
       "    }\n",
       "\n",
       "    .dataframe thead th {\n",
       "        text-align: right;\n",
       "    }\n",
       "</style>\n",
       "<table border=\"1\" class=\"dataframe\">\n",
       "  <thead>\n",
       "    <tr style=\"text-align: right;\">\n",
       "      <th></th>\n",
       "      <th>score</th>\n",
       "      <th>state</th>\n",
       "      <th>gender</th>\n",
       "      <th>age</th>\n",
       "      <th>patrimony</th>\n",
       "      <th>balance</th>\n",
       "      <th>products</th>\n",
       "      <th>credit_card</th>\n",
       "      <th>active</th>\n",
       "      <th>approved_credit</th>\n",
       "    </tr>\n",
       "  </thead>\n",
       "  <tbody>\n",
       "    <tr>\n",
       "      <th>0</th>\n",
       "      <td>619</td>\n",
       "      <td>RS</td>\n",
       "      <td>F</td>\n",
       "      <td>42</td>\n",
       "      <td>2</td>\n",
       "      <td>0</td>\n",
       "      <td>1</td>\n",
       "      <td>1</td>\n",
       "      <td>1</td>\n",
       "      <td>1</td>\n",
       "    </tr>\n",
       "    <tr>\n",
       "      <th>1</th>\n",
       "      <td>608</td>\n",
       "      <td>SC</td>\n",
       "      <td>F</td>\n",
       "      <td>41</td>\n",
       "      <td>1</td>\n",
       "      <td>8380786</td>\n",
       "      <td>1</td>\n",
       "      <td>0</td>\n",
       "      <td>1</td>\n",
       "      <td>0</td>\n",
       "    </tr>\n",
       "    <tr>\n",
       "      <th>2</th>\n",
       "      <td>502</td>\n",
       "      <td>RS</td>\n",
       "      <td>F</td>\n",
       "      <td>42</td>\n",
       "      <td>8</td>\n",
       "      <td>1596608</td>\n",
       "      <td>3</td>\n",
       "      <td>1</td>\n",
       "      <td>0</td>\n",
       "      <td>1</td>\n",
       "    </tr>\n",
       "    <tr>\n",
       "      <th>3</th>\n",
       "      <td>699</td>\n",
       "      <td>RS</td>\n",
       "      <td>F</td>\n",
       "      <td>39</td>\n",
       "      <td>1</td>\n",
       "      <td>0</td>\n",
       "      <td>2</td>\n",
       "      <td>0</td>\n",
       "      <td>0</td>\n",
       "      <td>0</td>\n",
       "    </tr>\n",
       "    <tr>\n",
       "      <th>4</th>\n",
       "      <td>850</td>\n",
       "      <td>SC</td>\n",
       "      <td>F</td>\n",
       "      <td>43</td>\n",
       "      <td>2</td>\n",
       "      <td>12551082</td>\n",
       "      <td>1</td>\n",
       "      <td>1</td>\n",
       "      <td>1</td>\n",
       "      <td>0</td>\n",
       "    </tr>\n",
       "    <tr>\n",
       "      <th>...</th>\n",
       "      <td>...</td>\n",
       "      <td>...</td>\n",
       "      <td>...</td>\n",
       "      <td>...</td>\n",
       "      <td>...</td>\n",
       "      <td>...</td>\n",
       "      <td>...</td>\n",
       "      <td>...</td>\n",
       "      <td>...</td>\n",
       "      <td>...</td>\n",
       "    </tr>\n",
       "    <tr>\n",
       "      <th>994</th>\n",
       "      <td>838</td>\n",
       "      <td>SC</td>\n",
       "      <td>M</td>\n",
       "      <td>43</td>\n",
       "      <td>9</td>\n",
       "      <td>12310588</td>\n",
       "      <td>2</td>\n",
       "      <td>1</td>\n",
       "      <td>0</td>\n",
       "      <td>0</td>\n",
       "    </tr>\n",
       "    <tr>\n",
       "      <th>995</th>\n",
       "      <td>610</td>\n",
       "      <td>SC</td>\n",
       "      <td>M</td>\n",
       "      <td>29</td>\n",
       "      <td>9</td>\n",
       "      <td>0</td>\n",
       "      <td>3</td>\n",
       "      <td>0</td>\n",
       "      <td>1</td>\n",
       "      <td>0</td>\n",
       "    </tr>\n",
       "    <tr>\n",
       "      <th>996</th>\n",
       "      <td>811</td>\n",
       "      <td>SC</td>\n",
       "      <td>M</td>\n",
       "      <td>44</td>\n",
       "      <td>3</td>\n",
       "      <td>0</td>\n",
       "      <td>2</td>\n",
       "      <td>0</td>\n",
       "      <td>1</td>\n",
       "      <td>0</td>\n",
       "    </tr>\n",
       "    <tr>\n",
       "      <th>997</th>\n",
       "      <td>587</td>\n",
       "      <td>SC</td>\n",
       "      <td>M</td>\n",
       "      <td>62</td>\n",
       "      <td>7</td>\n",
       "      <td>12128627</td>\n",
       "      <td>1</td>\n",
       "      <td>0</td>\n",
       "      <td>1</td>\n",
       "      <td>0</td>\n",
       "    </tr>\n",
       "    <tr>\n",
       "      <th>998</th>\n",
       "      <td>811</td>\n",
       "      <td>PR</td>\n",
       "      <td>F</td>\n",
       "      <td>28</td>\n",
       "      <td>4</td>\n",
       "      <td>16773882</td>\n",
       "      <td>2</td>\n",
       "      <td>1</td>\n",
       "      <td>1</td>\n",
       "      <td>0</td>\n",
       "    </tr>\n",
       "  </tbody>\n",
       "</table>\n",
       "<p>999 rows × 10 columns</p>\n",
       "</div>"
      ],
      "text/plain": [
       "     score state gender  age  patrimony   balance  products  credit_card  \\\n",
       "0      619    RS      F   42          2         0         1            1   \n",
       "1      608    SC      F   41          1   8380786         1            0   \n",
       "2      502    RS      F   42          8   1596608         3            1   \n",
       "3      699    RS      F   39          1         0         2            0   \n",
       "4      850    SC      F   43          2  12551082         1            1   \n",
       "..     ...   ...    ...  ...        ...       ...       ...          ...   \n",
       "994    838    SC      M   43          9  12310588         2            1   \n",
       "995    610    SC      M   29          9         0         3            0   \n",
       "996    811    SC      M   44          3         0         2            0   \n",
       "997    587    SC      M   62          7  12128627         1            0   \n",
       "998    811    PR      F   28          4  16773882         2            1   \n",
       "\n",
       "     active  approved_credit  \n",
       "0         1                1  \n",
       "1         1                0  \n",
       "2         0                1  \n",
       "3         0                0  \n",
       "4         1                0  \n",
       "..      ...              ...  \n",
       "994       0                0  \n",
       "995       1                0  \n",
       "996       1                0  \n",
       "997       1                0  \n",
       "998       1                0  \n",
       "\n",
       "[999 rows x 10 columns]"
      ]
     },
     "execution_count": 244,
     "metadata": {},
     "output_type": "execute_result"
    }
   ],
   "source": [
    "# carregando a base de dados\n",
    "dataset = pd.read_csv('../dataset/normalized.csv')\n",
    "dataset"
   ]
  },
  {
   "cell_type": "code",
   "execution_count": 245,
   "metadata": {},
   "outputs": [],
   "source": [
    "# transformação de dados codificação de variáveis categóricas\n",
    "cols = ['score','state', 'gender', 'age', 'patrimony', 'balance', 'products', 'credit_card', 'active']\n",
    "\n",
    "# Importe o LabelEncoder\n",
    "le = LabelEncoder()\n",
    "\n",
    "# Iterar sobre as colunas categóricas e aplicar o LabelEncoder a cada uma delas\n",
    "for col in cols:\n",
    "    dataset[col] = le.fit_transform(dataset[col])"
   ]
  },
  {
   "cell_type": "code",
   "execution_count": 246,
   "metadata": {},
   "outputs": [],
   "source": [
    "# previsores\n",
    "X = dataset\n",
    "X = X.drop(columns=['approved_credit'])\n",
    "# X"
   ]
  },
  {
   "cell_type": "code",
   "execution_count": 247,
   "metadata": {},
   "outputs": [],
   "source": [
    "# classe de saída\n",
    "y = dataset['approved_credit']"
   ]
  },
  {
   "cell_type": "markdown",
   "metadata": {},
   "source": [
    "# Dividindo a base de dados em treino e teste"
   ]
  },
  {
   "cell_type": "code",
   "execution_count": 248,
   "metadata": {},
   "outputs": [],
   "source": [
    "# dividindo a base de dados em treino e teste, 20% para teste\n",
    "X_train, X_test, y_train, y_test = train_test_split(X, y, test_size=0.2, random_state=42, stratify=y)"
   ]
  },
  {
   "cell_type": "markdown",
   "metadata": {},
   "source": [
    "# Modelo KNN"
   ]
  },
  {
   "cell_type": "code",
   "execution_count": 249,
   "metadata": {},
   "outputs": [
    {
     "data": {
      "text/html": [
       "<style>#sk-container-id-28 {color: black;}#sk-container-id-28 pre{padding: 0;}#sk-container-id-28 div.sk-toggleable {background-color: white;}#sk-container-id-28 label.sk-toggleable__label {cursor: pointer;display: block;width: 100%;margin-bottom: 0;padding: 0.3em;box-sizing: border-box;text-align: center;}#sk-container-id-28 label.sk-toggleable__label-arrow:before {content: \"▸\";float: left;margin-right: 0.25em;color: #696969;}#sk-container-id-28 label.sk-toggleable__label-arrow:hover:before {color: black;}#sk-container-id-28 div.sk-estimator:hover label.sk-toggleable__label-arrow:before {color: black;}#sk-container-id-28 div.sk-toggleable__content {max-height: 0;max-width: 0;overflow: hidden;text-align: left;background-color: #f0f8ff;}#sk-container-id-28 div.sk-toggleable__content pre {margin: 0.2em;color: black;border-radius: 0.25em;background-color: #f0f8ff;}#sk-container-id-28 input.sk-toggleable__control:checked~div.sk-toggleable__content {max-height: 200px;max-width: 100%;overflow: auto;}#sk-container-id-28 input.sk-toggleable__control:checked~label.sk-toggleable__label-arrow:before {content: \"▾\";}#sk-container-id-28 div.sk-estimator input.sk-toggleable__control:checked~label.sk-toggleable__label {background-color: #d4ebff;}#sk-container-id-28 div.sk-label input.sk-toggleable__control:checked~label.sk-toggleable__label {background-color: #d4ebff;}#sk-container-id-28 input.sk-hidden--visually {border: 0;clip: rect(1px 1px 1px 1px);clip: rect(1px, 1px, 1px, 1px);height: 1px;margin: -1px;overflow: hidden;padding: 0;position: absolute;width: 1px;}#sk-container-id-28 div.sk-estimator {font-family: monospace;background-color: #f0f8ff;border: 1px dotted black;border-radius: 0.25em;box-sizing: border-box;margin-bottom: 0.5em;}#sk-container-id-28 div.sk-estimator:hover {background-color: #d4ebff;}#sk-container-id-28 div.sk-parallel-item::after {content: \"\";width: 100%;border-bottom: 1px solid gray;flex-grow: 1;}#sk-container-id-28 div.sk-label:hover label.sk-toggleable__label {background-color: #d4ebff;}#sk-container-id-28 div.sk-serial::before {content: \"\";position: absolute;border-left: 1px solid gray;box-sizing: border-box;top: 0;bottom: 0;left: 50%;z-index: 0;}#sk-container-id-28 div.sk-serial {display: flex;flex-direction: column;align-items: center;background-color: white;padding-right: 0.2em;padding-left: 0.2em;position: relative;}#sk-container-id-28 div.sk-item {position: relative;z-index: 1;}#sk-container-id-28 div.sk-parallel {display: flex;align-items: stretch;justify-content: center;background-color: white;position: relative;}#sk-container-id-28 div.sk-item::before, #sk-container-id-28 div.sk-parallel-item::before {content: \"\";position: absolute;border-left: 1px solid gray;box-sizing: border-box;top: 0;bottom: 0;left: 50%;z-index: -1;}#sk-container-id-28 div.sk-parallel-item {display: flex;flex-direction: column;z-index: 1;position: relative;background-color: white;}#sk-container-id-28 div.sk-parallel-item:first-child::after {align-self: flex-end;width: 50%;}#sk-container-id-28 div.sk-parallel-item:last-child::after {align-self: flex-start;width: 50%;}#sk-container-id-28 div.sk-parallel-item:only-child::after {width: 0;}#sk-container-id-28 div.sk-dashed-wrapped {border: 1px dashed gray;margin: 0 0.4em 0.5em 0.4em;box-sizing: border-box;padding-bottom: 0.4em;background-color: white;}#sk-container-id-28 div.sk-label label {font-family: monospace;font-weight: bold;display: inline-block;line-height: 1.2em;}#sk-container-id-28 div.sk-label-container {text-align: center;}#sk-container-id-28 div.sk-container {/* jupyter's `normalize.less` sets `[hidden] { display: none; }` but bootstrap.min.css set `[hidden] { display: none !important; }` so we also need the `!important` here to be able to override the default hidden behavior on the sphinx rendered scikit-learn.org. See: https://github.com/scikit-learn/scikit-learn/issues/21755 */display: inline-block !important;position: relative;}#sk-container-id-28 div.sk-text-repr-fallback {display: none;}</style><div id=\"sk-container-id-28\" class=\"sk-top-container\"><div class=\"sk-text-repr-fallback\"><pre>KNeighborsClassifier(n_neighbors=3)</pre><b>In a Jupyter environment, please rerun this cell to show the HTML representation or trust the notebook. <br />On GitHub, the HTML representation is unable to render, please try loading this page with nbviewer.org.</b></div><div class=\"sk-container\" hidden><div class=\"sk-item\"><div class=\"sk-estimator sk-toggleable\"><input class=\"sk-toggleable__control sk-hidden--visually\" id=\"sk-estimator-id-28\" type=\"checkbox\" checked><label for=\"sk-estimator-id-28\" class=\"sk-toggleable__label sk-toggleable__label-arrow\">KNeighborsClassifier</label><div class=\"sk-toggleable__content\"><pre>KNeighborsClassifier(n_neighbors=3)</pre></div></div></div></div></div>"
      ],
      "text/plain": [
       "KNeighborsClassifier(n_neighbors=3)"
      ]
     },
     "execution_count": 249,
     "metadata": {},
     "output_type": "execute_result"
    }
   ],
   "source": [
    "# Criando e treinando o modelo KNN\n",
    "knn = KNeighborsClassifier(n_neighbors=3)\n",
    "knn.fit(X_train, y_train)"
   ]
  },
  {
   "cell_type": "code",
   "execution_count": 250,
   "metadata": {},
   "outputs": [],
   "source": [
    "# Fazendo as previsões no conjunto de teste\n",
    "y_pred_knn = knn.predict(X_test)"
   ]
  },
  {
   "cell_type": "code",
   "execution_count": 251,
   "metadata": {},
   "outputs": [
    {
     "name": "stdout",
     "output_type": "stream",
     "text": [
      "              precision    recall  f1-score   support\n",
      "\n",
      "           0       0.81      0.91      0.85       159\n",
      "           1       0.32      0.17      0.22        41\n",
      "\n",
      "    accuracy                           0.76       200\n",
      "   macro avg       0.56      0.54      0.54       200\n",
      "weighted avg       0.71      0.76      0.72       200\n",
      "\n"
     ]
    }
   ],
   "source": [
    "# relatório de desempenho do modelo KNN\n",
    "print(classification_report(y_test, y_pred_knn))"
   ]
  },
  {
   "cell_type": "code",
   "execution_count": 252,
   "metadata": {},
   "outputs": [
    {
     "data": {
      "text/plain": [
       "<sklearn.metrics._plot.confusion_matrix.ConfusionMatrixDisplay at 0x29cf62710>"
      ]
     },
     "execution_count": 252,
     "metadata": {},
     "output_type": "execute_result"
    },
    {
     "data": {
      "image/png": "[encoded data removed]",
      "text/plain": [
       "<Figure size 640x480 with 2 Axes>"
      ]
     },
     "metadata": {},
     "output_type": "display_data"
    }
   ],
   "source": [
    "# Crie a matriz de confusão\n",
    "confMatrixKNN = ConfusionMatrixDisplay(confusion_matrix=confusion_matrix(y_test, y_pred_knn))\n",
    "confMatrixKNN.plot()"
   ]
  },
  {
   "cell_type": "markdown",
   "metadata": {},
   "source": [
    "# Modelo Random Forest"
   ]
  },
  {
   "cell_type": "code",
   "execution_count": 253,
   "metadata": {},
   "outputs": [
    {
     "data": {
      "text/html": [
       "<style>#sk-container-id-29 {color: black;}#sk-container-id-29 pre{padding: 0;}#sk-container-id-29 div.sk-toggleable {background-color: white;}#sk-container-id-29 label.sk-toggleable__label {cursor: pointer;display: block;width: 100%;margin-bottom: 0;padding: 0.3em;box-sizing: border-box;text-align: center;}#sk-container-id-29 label.sk-toggleable__label-arrow:before {content: \"▸\";float: left;margin-right: 0.25em;color: #696969;}#sk-container-id-29 label.sk-toggleable__label-arrow:hover:before {color: black;}#sk-container-id-29 div.sk-estimator:hover label.sk-toggleable__label-arrow:before {color: black;}#sk-container-id-29 div.sk-toggleable__content {max-height: 0;max-width: 0;overflow: hidden;text-align: left;background-color: #f0f8ff;}#sk-container-id-29 div.sk-toggleable__content pre {margin: 0.2em;color: black;border-radius: 0.25em;background-color: #f0f8ff;}#sk-container-id-29 input.sk-toggleable__control:checked~div.sk-toggleable__content {max-height: 200px;max-width: 100%;overflow: auto;}#sk-container-id-29 input.sk-toggleable__control:checked~label.sk-toggleable__label-arrow:before {content: \"▾\";}#sk-container-id-29 div.sk-estimator input.sk-toggleable__control:checked~label.sk-toggleable__label {background-color: #d4ebff;}#sk-container-id-29 div.sk-label input.sk-toggleable__control:checked~label.sk-toggleable__label {background-color: #d4ebff;}#sk-container-id-29 input.sk-hidden--visually {border: 0;clip: rect(1px 1px 1px 1px);clip: rect(1px, 1px, 1px, 1px);height: 1px;margin: -1px;overflow: hidden;padding: 0;position: absolute;width: 1px;}#sk-container-id-29 div.sk-estimator {font-family: monospace;background-color: #f0f8ff;border: 1px dotted black;border-radius: 0.25em;box-sizing: border-box;margin-bottom: 0.5em;}#sk-container-id-29 div.sk-estimator:hover {background-color: #d4ebff;}#sk-container-id-29 div.sk-parallel-item::after {content: \"\";width: 100%;border-bottom: 1px solid gray;flex-grow: 1;}#sk-container-id-29 div.sk-label:hover label.sk-toggleable__label {background-color: #d4ebff;}#sk-container-id-29 div.sk-serial::before {content: \"\";position: absolute;border-left: 1px solid gray;box-sizing: border-box;top: 0;bottom: 0;left: 50%;z-index: 0;}#sk-container-id-29 div.sk-serial {display: flex;flex-direction: column;align-items: center;background-color: white;padding-right: 0.2em;padding-left: 0.2em;position: relative;}#sk-container-id-29 div.sk-item {position: relative;z-index: 1;}#sk-container-id-29 div.sk-parallel {display: flex;align-items: stretch;justify-content: center;background-color: white;position: relative;}#sk-container-id-29 div.sk-item::before, #sk-container-id-29 div.sk-parallel-item::before {content: \"\";position: absolute;border-left: 1px solid gray;box-sizing: border-box;top: 0;bottom: 0;left: 50%;z-index: -1;}#sk-container-id-29 div.sk-parallel-item {display: flex;flex-direction: column;z-index: 1;position: relative;background-color: white;}#sk-container-id-29 div.sk-parallel-item:first-child::after {align-self: flex-end;width: 50%;}#sk-container-id-29 div.sk-parallel-item:last-child::after {align-self: flex-start;width: 50%;}#sk-container-id-29 div.sk-parallel-item:only-child::after {width: 0;}#sk-container-id-29 div.sk-dashed-wrapped {border: 1px dashed gray;margin: 0 0.4em 0.5em 0.4em;box-sizing: border-box;padding-bottom: 0.4em;background-color: white;}#sk-container-id-29 div.sk-label label {font-family: monospace;font-weight: bold;display: inline-block;line-height: 1.2em;}#sk-container-id-29 div.sk-label-container {text-align: center;}#sk-container-id-29 div.sk-container {/* jupyter's `normalize.less` sets `[hidden] { display: none; }` but bootstrap.min.css set `[hidden] { display: none !important; }` so we also need the `!important` here to be able to override the default hidden behavior on the sphinx rendered scikit-learn.org. See: https://github.com/scikit-learn/scikit-learn/issues/21755 */display: inline-block !important;position: relative;}#sk-container-id-29 div.sk-text-repr-fallback {display: none;}</style><div id=\"sk-container-id-29\" class=\"sk-top-container\"><div class=\"sk-text-repr-fallback\"><pre>RandomForestClassifier(random_state=42)</pre><b>In a Jupyter environment, please rerun this cell to show the HTML representation or trust the notebook. <br />On GitHub, the HTML representation is unable to render, please try loading this page with nbviewer.org.</b></div><div class=\"sk-container\" hidden><div class=\"sk-item\"><div class=\"sk-estimator sk-toggleable\"><input class=\"sk-toggleable__control sk-hidden--visually\" id=\"sk-estimator-id-29\" type=\"checkbox\" checked><label for=\"sk-estimator-id-29\" class=\"sk-toggleable__label sk-toggleable__label-arrow\">RandomForestClassifier</label><div class=\"sk-toggleable__content\"><pre>RandomForestClassifier(random_state=42)</pre></div></div></div></div></div>"
      ],
      "text/plain": [
       "RandomForestClassifier(random_state=42)"
      ]
     },
     "execution_count": 253,
     "metadata": {},
     "output_type": "execute_result"
    }
   ],
   "source": [
    "# criando modelo random forest\n",
    "random_forest = RandomForestClassifier(n_estimators=100, random_state=42)\n",
    "random_forest.fit(X_train, y_train)"
   ]
  },
  {
   "cell_type": "code",
   "execution_count": 254,
   "metadata": {},
   "outputs": [],
   "source": [
    "# fazendo a previsão dos conjuntos de teste\n",
    "y_pred_RF = random_forest.predict(X_test)"
   ]
  },
  {
   "cell_type": "code",
   "execution_count": 255,
   "metadata": {},
   "outputs": [
    {
     "name": "stdout",
     "output_type": "stream",
     "text": [
      "              precision    recall  f1-score   support\n",
      "\n",
      "           0       0.86      0.96      0.91       159\n",
      "           1       0.73      0.39      0.51        41\n",
      "\n",
      "    accuracy                           0.84       200\n",
      "   macro avg       0.79      0.68      0.71       200\n",
      "weighted avg       0.83      0.84      0.83       200\n",
      "\n"
     ]
    }
   ],
   "source": [
    "# relatório de desempenho do modelo Random Forest\n",
    "print(classification_report(y_test, y_pred_RF))"
   ]
  },
  {
   "cell_type": "code",
   "execution_count": 256,
   "metadata": {},
   "outputs": [
    {
     "data": {
      "text/plain": [
       "<sklearn.metrics._plot.confusion_matrix.ConfusionMatrixDisplay at 0x29cf60150>"
      ]
     },
     "execution_count": 256,
     "metadata": {},
     "output_type": "execute_result"
    },
    {
     "data": {
      "image/png": "[encoded data removed]",
      "text/plain": [
       "<Figure size 640x480 with 2 Axes>"
      ]
     },
     "metadata": {},
     "output_type": "display_data"
    }
   ],
   "source": [
    "# Crie a matriz de confusão\n",
    "confMatrixRF = ConfusionMatrixDisplay(confusion_matrix=confusion_matrix(y_test, y_pred_RF))\n",
    "confMatrixRF.plot()"
   ]
  },
  {
   "cell_type": "markdown",
   "metadata": {},
   "source": [
    "# Modelo SVM"
   ]
  },
  {
   "cell_type": "code",
   "execution_count": 257,
   "metadata": {},
   "outputs": [
    {
     "data": {
      "text/html": [
       "<style>#sk-container-id-30 {color: black;}#sk-container-id-30 pre{padding: 0;}#sk-container-id-30 div.sk-toggleable {background-color: white;}#sk-container-id-30 label.sk-toggleable__label {cursor: pointer;display: block;width: 100%;margin-bottom: 0;padding: 0.3em;box-sizing: border-box;text-align: center;}#sk-container-id-30 label.sk-toggleable__label-arrow:before {content: \"▸\";float: left;margin-right: 0.25em;color: #696969;}#sk-container-id-30 label.sk-toggleable__label-arrow:hover:before {color: black;}#sk-container-id-30 div.sk-estimator:hover label.sk-toggleable__label-arrow:before {color: black;}#sk-container-id-30 div.sk-toggleable__content {max-height: 0;max-width: 0;overflow: hidden;text-align: left;background-color: #f0f8ff;}#sk-container-id-30 div.sk-toggleable__content pre {margin: 0.2em;color: black;border-radius: 0.25em;background-color: #f0f8ff;}#sk-container-id-30 input.sk-toggleable__control:checked~div.sk-toggleable__content {max-height: 200px;max-width: 100%;overflow: auto;}#sk-container-id-30 input.sk-toggleable__control:checked~label.sk-toggleable__label-arrow:before {content: \"▾\";}#sk-container-id-30 div.sk-estimator input.sk-toggleable__control:checked~label.sk-toggleable__label {background-color: #d4ebff;}#sk-container-id-30 div.sk-label input.sk-toggleable__control:checked~label.sk-toggleable__label {background-color: #d4ebff;}#sk-container-id-30 input.sk-hidden--visually {border: 0;clip: rect(1px 1px 1px 1px);clip: rect(1px, 1px, 1px, 1px);height: 1px;margin: -1px;overflow: hidden;padding: 0;position: absolute;width: 1px;}#sk-container-id-30 div.sk-estimator {font-family: monospace;background-color: #f0f8ff;border: 1px dotted black;border-radius: 0.25em;box-sizing: border-box;margin-bottom: 0.5em;}#sk-container-id-30 div.sk-estimator:hover {background-color: #d4ebff;}#sk-container-id-30 div.sk-parallel-item::after {content: \"\";width: 100%;border-bottom: 1px solid gray;flex-grow: 1;}#sk-container-id-30 div.sk-label:hover label.sk-toggleable__label {background-color: #d4ebff;}#sk-container-id-30 div.sk-serial::before {content: \"\";position: absolute;border-left: 1px solid gray;box-sizing: border-box;top: 0;bottom: 0;left: 50%;z-index: 0;}#sk-container-id-30 div.sk-serial {display: flex;flex-direction: column;align-items: center;background-color: white;padding-right: 0.2em;padding-left: 0.2em;position: relative;}#sk-container-id-30 div.sk-item {position: relative;z-index: 1;}#sk-container-id-30 div.sk-parallel {display: flex;align-items: stretch;justify-content: center;background-color: white;position: relative;}#sk-container-id-30 div.sk-item::before, #sk-container-id-30 div.sk-parallel-item::before {content: \"\";position: absolute;border-left: 1px solid gray;box-sizing: border-box;top: 0;bottom: 0;left: 50%;z-index: -1;}#sk-container-id-30 div.sk-parallel-item {display: flex;flex-direction: column;z-index: 1;position: relative;background-color: white;}#sk-container-id-30 div.sk-parallel-item:first-child::after {align-self: flex-end;width: 50%;}#sk-container-id-30 div.sk-parallel-item:last-child::after {align-self: flex-start;width: 50%;}#sk-container-id-30 div.sk-parallel-item:only-child::after {width: 0;}#sk-container-id-30 div.sk-dashed-wrapped {border: 1px dashed gray;margin: 0 0.4em 0.5em 0.4em;box-sizing: border-box;padding-bottom: 0.4em;background-color: white;}#sk-container-id-30 div.sk-label label {font-family: monospace;font-weight: bold;display: inline-block;line-height: 1.2em;}#sk-container-id-30 div.sk-label-container {text-align: center;}#sk-container-id-30 div.sk-container {/* jupyter's `normalize.less` sets `[hidden] { display: none; }` but bootstrap.min.css set `[hidden] { display: none !important; }` so we also need the `!important` here to be able to override the default hidden behavior on the sphinx rendered scikit-learn.org. See: https://github.com/scikit-learn/scikit-learn/issues/21755 */display: inline-block !important;position: relative;}#sk-container-id-30 div.sk-text-repr-fallback {display: none;}</style><div id=\"sk-container-id-30\" class=\"sk-top-container\"><div class=\"sk-text-repr-fallback\"><pre>SVC()</pre><b>In a Jupyter environment, please rerun this cell to show the HTML representation or trust the notebook. <br />On GitHub, the HTML representation is unable to render, please try loading this page with nbviewer.org.</b></div><div class=\"sk-container\" hidden><div class=\"sk-item\"><div class=\"sk-estimator sk-toggleable\"><input class=\"sk-toggleable__control sk-hidden--visually\" id=\"sk-estimator-id-30\" type=\"checkbox\" checked><label for=\"sk-estimator-id-30\" class=\"sk-toggleable__label sk-toggleable__label-arrow\">SVC</label><div class=\"sk-toggleable__content\"><pre>SVC()</pre></div></div></div></div></div>"
      ],
      "text/plain": [
       "SVC()"
      ]
     },
     "execution_count": 257,
     "metadata": {},
     "output_type": "execute_result"
    }
   ],
   "source": [
    "# criando modelo SVM\n",
    "svm=SVC()\n",
    "svm.fit(X_train, y_train)"
   ]
  },
  {
   "cell_type": "code",
   "execution_count": 258,
   "metadata": {},
   "outputs": [],
   "source": [
    "# fazendo a previsão dos conjuntos de teste\n",
    "y_pred_svm = svm.predict(X_test)"
   ]
  },
  {
   "cell_type": "code",
   "execution_count": 259,
   "metadata": {},
   "outputs": [
    {
     "name": "stdout",
     "output_type": "stream",
     "text": [
      "              precision    recall  f1-score   support\n",
      "\n",
      "           0       0.80      1.00      0.89       159\n",
      "           1       0.00      0.00      0.00        41\n",
      "\n",
      "    accuracy                           0.80       200\n",
      "   macro avg       0.40      0.50      0.44       200\n",
      "weighted avg       0.63      0.80      0.70       200\n",
      "\n"
     ]
    },
    {
     "name": "stderr",
     "output_type": "stream",
     "text": [
      "/Users/lacienemelo/Documents/developed-software/python-dev/virtual-environment/lib/python3.11/site-packages/sklearn/metrics/_classification.py:1469: UndefinedMetricWarning: Precision and F-score are ill-defined and being set to 0.0 in labels with no predicted samples. Use `zero_division` parameter to control this behavior.\n",
      "  _warn_prf(average, modifier, msg_start, len(result))\n",
      "/Users/lacienemelo/Documents/developed-software/python-dev/virtual-environment/lib/python3.11/site-packages/sklearn/metrics/_classification.py:1469: UndefinedMetricWarning: Precision and F-score are ill-defined and being set to 0.0 in labels with no predicted samples. Use `zero_division` parameter to control this behavior.\n",
      "  _warn_prf(average, modifier, msg_start, len(result))\n",
      "/Users/lacienemelo/Documents/developed-software/python-dev/virtual-environment/lib/python3.11/site-packages/sklearn/metrics/_classification.py:1469: UndefinedMetricWarning: Precision and F-score are ill-defined and being set to 0.0 in labels with no predicted samples. Use `zero_division` parameter to control this behavior.\n",
      "  _warn_prf(average, modifier, msg_start, len(result))\n"
     ]
    }
   ],
   "source": [
    "# relatório de desempenho do modelo SVM\n",
    "print(classification_report(y_test, y_pred_svm))"
   ]
  },
  {
   "cell_type": "code",
   "execution_count": 260,
   "metadata": {},
   "outputs": [
    {
     "data": {
      "text/plain": [
       "<sklearn.metrics._plot.confusion_matrix.ConfusionMatrixDisplay at 0x29dcec9d0>"
      ]
     },
     "execution_count": 260,
     "metadata": {},
     "output_type": "execute_result"
    },
    {
     "data": {
      "image/png": "[encoded data removed]",
      "text/plain": [
       "<Figure size 640x480 with 2 Axes>"
      ]
     },
     "metadata": {},
     "output_type": "display_data"
    }
   ],
   "source": [
    "# Crie a matriz de confusão\n",
    "confMatrixSVM = ConfusionMatrixDisplay(confusion_matrix=confusion_matrix(y_test, y_pred_svm))\n",
    "confMatrixSVM.plot()"
   ]
  },
  {
   "cell_type": "markdown",
   "metadata": {},
   "source": [
    "# Modelo Árvore de Decisão"
   ]
  },
  {
   "cell_type": "code",
   "execution_count": 261,
   "metadata": {},
   "outputs": [
    {
     "data": {
      "text/html": [
       "<style>#sk-container-id-31 {color: black;}#sk-container-id-31 pre{padding: 0;}#sk-container-id-31 div.sk-toggleable {background-color: white;}#sk-container-id-31 label.sk-toggleable__label {cursor: pointer;display: block;width: 100%;margin-bottom: 0;padding: 0.3em;box-sizing: border-box;text-align: center;}#sk-container-id-31 label.sk-toggleable__label-arrow:before {content: \"▸\";float: left;margin-right: 0.25em;color: #696969;}#sk-container-id-31 label.sk-toggleable__label-arrow:hover:before {color: black;}#sk-container-id-31 div.sk-estimator:hover label.sk-toggleable__label-arrow:before {color: black;}#sk-container-id-31 div.sk-toggleable__content {max-height: 0;max-width: 0;overflow: hidden;text-align: left;background-color: #f0f8ff;}#sk-container-id-31 div.sk-toggleable__content pre {margin: 0.2em;color: black;border-radius: 0.25em;background-color: #f0f8ff;}#sk-container-id-31 input.sk-toggleable__control:checked~div.sk-toggleable__content {max-height: 200px;max-width: 100%;overflow: auto;}#sk-container-id-31 input.sk-toggleable__control:checked~label.sk-toggleable__label-arrow:before {content: \"▾\";}#sk-container-id-31 div.sk-estimator input.sk-toggleable__control:checked~label.sk-toggleable__label {background-color: #d4ebff;}#sk-container-id-31 div.sk-label input.sk-toggleable__control:checked~label.sk-toggleable__label {background-color: #d4ebff;}#sk-container-id-31 input.sk-hidden--visually {border: 0;clip: rect(1px 1px 1px 1px);clip: rect(1px, 1px, 1px, 1px);height: 1px;margin: -1px;overflow: hidden;padding: 0;position: absolute;width: 1px;}#sk-container-id-31 div.sk-estimator {font-family: monospace;background-color: #f0f8ff;border: 1px dotted black;border-radius: 0.25em;box-sizing: border-box;margin-bottom: 0.5em;}#sk-container-id-31 div.sk-estimator:hover {background-color: #d4ebff;}#sk-container-id-31 div.sk-parallel-item::after {content: \"\";width: 100%;border-bottom: 1px solid gray;flex-grow: 1;}#sk-container-id-31 div.sk-label:hover label.sk-toggleable__label {background-color: #d4ebff;}#sk-container-id-31 div.sk-serial::before {content: \"\";position: absolute;border-left: 1px solid gray;box-sizing: border-box;top: 0;bottom: 0;left: 50%;z-index: 0;}#sk-container-id-31 div.sk-serial {display: flex;flex-direction: column;align-items: center;background-color: white;padding-right: 0.2em;padding-left: 0.2em;position: relative;}#sk-container-id-31 div.sk-item {position: relative;z-index: 1;}#sk-container-id-31 div.sk-parallel {display: flex;align-items: stretch;justify-content: center;background-color: white;position: relative;}#sk-container-id-31 div.sk-item::before, #sk-container-id-31 div.sk-parallel-item::before {content: \"\";position: absolute;border-left: 1px solid gray;box-sizing: border-box;top: 0;bottom: 0;left: 50%;z-index: -1;}#sk-container-id-31 div.sk-parallel-item {display: flex;flex-direction: column;z-index: 1;position: relative;background-color: white;}#sk-container-id-31 div.sk-parallel-item:first-child::after {align-self: flex-end;width: 50%;}#sk-container-id-31 div.sk-parallel-item:last-child::after {align-self: flex-start;width: 50%;}#sk-container-id-31 div.sk-parallel-item:only-child::after {width: 0;}#sk-container-id-31 div.sk-dashed-wrapped {border: 1px dashed gray;margin: 0 0.4em 0.5em 0.4em;box-sizing: border-box;padding-bottom: 0.4em;background-color: white;}#sk-container-id-31 div.sk-label label {font-family: monospace;font-weight: bold;display: inline-block;line-height: 1.2em;}#sk-container-id-31 div.sk-label-container {text-align: center;}#sk-container-id-31 div.sk-container {/* jupyter's `normalize.less` sets `[hidden] { display: none; }` but bootstrap.min.css set `[hidden] { display: none !important; }` so we also need the `!important` here to be able to override the default hidden behavior on the sphinx rendered scikit-learn.org. See: https://github.com/scikit-learn/scikit-learn/issues/21755 */display: inline-block !important;position: relative;}#sk-container-id-31 div.sk-text-repr-fallback {display: none;}</style><div id=\"sk-container-id-31\" class=\"sk-top-container\"><div class=\"sk-text-repr-fallback\"><pre>DecisionTreeClassifier()</pre><b>In a Jupyter environment, please rerun this cell to show the HTML representation or trust the notebook. <br />On GitHub, the HTML representation is unable to render, please try loading this page with nbviewer.org.</b></div><div class=\"sk-container\" hidden><div class=\"sk-item\"><div class=\"sk-estimator sk-toggleable\"><input class=\"sk-toggleable__control sk-hidden--visually\" id=\"sk-estimator-id-31\" type=\"checkbox\" checked><label for=\"sk-estimator-id-31\" class=\"sk-toggleable__label sk-toggleable__label-arrow\">DecisionTreeClassifier</label><div class=\"sk-toggleable__content\"><pre>DecisionTreeClassifier()</pre></div></div></div></div></div>"
      ],
      "text/plain": [
       "DecisionTreeClassifier()"
      ]
     },
     "execution_count": 261,
     "metadata": {},
     "output_type": "execute_result"
    }
   ],
   "source": [
    "# criando modelo de árvore de decisão\n",
    "tree = DecisionTreeClassifier()\n",
    "tree.fit(X_train, y_train)"
   ]
  },
  {
   "cell_type": "code",
   "execution_count": 262,
   "metadata": {},
   "outputs": [
    {
     "data": {
      "text/plain": [
       "array([0, 0, 0, 0, 0, 0, 0, 0, 0, 0, 1, 0, 0, 0, 0, 1, 0, 1, 1, 0, 0, 1,\n",
       "       1, 0, 0, 1, 0, 0, 0, 1, 0, 0, 0, 0, 0, 0, 1, 0, 0, 0, 0, 0, 0, 0,\n",
       "       0, 0, 1, 0, 0, 0, 0, 0, 1, 0, 0, 0, 1, 1, 0, 0, 0, 0, 0, 0, 0, 0,\n",
       "       0, 0, 1, 1, 0, 0, 0, 0, 0, 0, 1, 0, 0, 0, 0, 0, 0, 0, 0, 0, 0, 0,\n",
       "       1, 0, 0, 1, 1, 0, 0, 0, 0, 0, 0, 1, 0, 0, 0, 1, 0, 0, 0, 0, 1, 0,\n",
       "       0, 1, 0, 0, 0, 0, 1, 0, 0, 0, 0, 0, 1, 1, 0, 0, 0, 0, 0, 0, 0, 0,\n",
       "       0, 0, 0, 0, 0, 1, 0, 0, 0, 0, 1, 0, 0, 0, 1, 0, 1, 0, 0, 0, 0, 0,\n",
       "       0, 1, 1, 0, 0, 1, 0, 0, 0, 1, 0, 0, 0, 0, 0, 1, 0, 1, 0, 0, 0, 0,\n",
       "       1, 0, 1, 1, 0, 0, 0, 0, 0, 0, 0, 1, 1, 0, 0, 0, 0, 0, 1, 0, 0, 0,\n",
       "       1, 0])"
      ]
     },
     "execution_count": 262,
     "metadata": {},
     "output_type": "execute_result"
    }
   ],
   "source": [
    "# fazendo a previsão dos conjuntos de teste\n",
    "y_pred_tree = tree.predict(X_test)\n",
    "y_pred_tree"
   ]
  },
  {
   "cell_type": "code",
   "execution_count": 263,
   "metadata": {},
   "outputs": [
    {
     "name": "stdout",
     "output_type": "stream",
     "text": [
      "              precision    recall  f1-score   support\n",
      "\n",
      "           0       0.86      0.85      0.85       159\n",
      "           1       0.44      0.46      0.45        41\n",
      "\n",
      "    accuracy                           0.77       200\n",
      "   macro avg       0.65      0.66      0.65       200\n",
      "weighted avg       0.77      0.77      0.77       200\n",
      "\n"
     ]
    }
   ],
   "source": [
    "# relatório de desempenho do modelo de árvore de decisão\n",
    "print(classification_report(y_test, y_pred_tree))"
   ]
  },
  {
   "cell_type": "code",
   "execution_count": 264,
   "metadata": {},
   "outputs": [
    {
     "data": {
      "text/plain": [
       "<sklearn.metrics._plot.confusion_matrix.ConfusionMatrixDisplay at 0x29df23050>"
      ]
     },
     "execution_count": 264,
     "metadata": {},
     "output_type": "execute_result"
    },
    {
     "data": {
      "image/png": "[encoded data removed]",
      "text/plain": [
       "<Figure size 640x480 with 2 Axes>"
      ]
     },
     "metadata": {},
     "output_type": "display_data"
    }
   ],
   "source": [
    "# Crie a matriz de confusão\n",
    "confMatrixDecisionTree = ConfusionMatrixDisplay(confusion_matrix=confusion_matrix(y_test, y_pred_tree))\n",
    "confMatrixDecisionTree.plot()"
   ]
  },
  {
   "cell_type": "markdown",
   "metadata": {},
   "source": [
    "# Modelo RNA"
   ]
  },
  {
   "cell_type": "code",
   "execution_count": 265,
   "metadata": {},
   "outputs": [],
   "source": [
    "# Crie a arquitetura da RNA\n",
    "model = Sequential()\n",
    "\n",
    "# Adicione a primeira camada densamente conectada\n",
    "# Ela tem 9 neurônios (ou unidades) que representam o número de parâmetros previsores\n",
    "# Usa a função de ativação 'relu', input_shape número de características do conjunto de treinamento\n",
    "model.add(Dense(9, activation='relu', input_shape=(X_train.shape[1],)))\n",
    "\n",
    "# Adicione a segunda camada densamente conectada\n",
    "# Esta é a primeira camada oculta\n",
    "# Ela tem 100 neurônios e usa a função de ativação 'relu'\n",
    "model.add(Dense(100, activation='relu'))\n",
    "\n",
    "# Adicione a terceira camada densamente conectada\n",
    "# Esta é a camada de saída\n",
    "# sigmoid para classificação binária\n",
    "# Ela tem um neurônio de saída, justamente por ser uma saída binária\n",
    "model.add(Dense(1, activation='sigmoid'))"
   ]
  },
  {
   "cell_type": "code",
   "execution_count": 266,
   "metadata": {},
   "outputs": [
    {
     "name": "stderr",
     "output_type": "stream",
     "text": [
      "WARNING:absl:At this time, the v2.11+ optimizer `tf.keras.optimizers.Adam` runs slowly on M1/M2 Macs, please use the legacy Keras optimizer instead, located at `tf.keras.optimizers.legacy.Adam`.\n"
     ]
    }
   ],
   "source": [
    "# Compilar o modelo\n",
    "model.compile(optimizer=Adam(learning_rate=0.001), loss='binary_crossentropy', metrics=['accuracy'])"
   ]
  },
  {
   "cell_type": "code",
   "execution_count": 267,
   "metadata": {},
   "outputs": [
    {
     "name": "stdout",
     "output_type": "stream",
     "text": [
      "Epoch 1/100\n",
      "25/25 [==============================] - 0s 630us/step - loss: 5.1392 - accuracy: 0.5870\n",
      "Epoch 2/100\n",
      "25/25 [==============================] - 0s 572us/step - loss: 1.1504 - accuracy: 0.7484\n",
      "Epoch 3/100\n",
      "25/25 [==============================] - 0s 537us/step - loss: 0.6426 - accuracy: 0.7359\n",
      "Epoch 4/100\n",
      "25/25 [==============================] - 0s 478us/step - loss: 0.5818 - accuracy: 0.7735\n",
      "Epoch 5/100\n",
      "25/25 [==============================] - 0s 455us/step - loss: 0.5649 - accuracy: 0.7559\n",
      "Epoch 6/100\n",
      "25/25 [==============================] - 0s 778us/step - loss: 0.5499 - accuracy: 0.7760\n",
      "Epoch 7/100\n",
      "25/25 [==============================] - 0s 642us/step - loss: 0.5483 - accuracy: 0.7747\n",
      "Epoch 8/100\n",
      "25/25 [==============================] - 0s 532us/step - loss: 0.5256 - accuracy: 0.7835\n",
      "Epoch 9/100\n",
      "25/25 [==============================] - 0s 550us/step - loss: 0.5289 - accuracy: 0.7835\n",
      "Epoch 10/100\n",
      "25/25 [==============================] - 0s 849us/step - loss: 0.5393 - accuracy: 0.7785\n",
      "Epoch 11/100\n",
      "25/25 [==============================] - 0s 882us/step - loss: 0.5291 - accuracy: 0.7785\n",
      "Epoch 12/100\n",
      "25/25 [==============================] - 0s 821us/step - loss: 0.5625 - accuracy: 0.7785\n",
      "Epoch 13/100\n",
      "25/25 [==============================] - 0s 859us/step - loss: 0.5260 - accuracy: 0.7797\n",
      "Epoch 14/100\n",
      "25/25 [==============================] - 0s 751us/step - loss: 0.5049 - accuracy: 0.7910\n",
      "Epoch 15/100\n",
      "25/25 [==============================] - 0s 921us/step - loss: 0.5610 - accuracy: 0.7785\n",
      "Epoch 16/100\n",
      "25/25 [==============================] - 0s 974us/step - loss: 0.5041 - accuracy: 0.7960\n",
      "Epoch 17/100\n",
      "25/25 [==============================] - 0s 1ms/step - loss: 0.4965 - accuracy: 0.7985\n",
      "Epoch 18/100\n",
      "25/25 [==============================] - 0s 1ms/step - loss: 0.4904 - accuracy: 0.8048\n",
      "Epoch 19/100\n",
      "25/25 [==============================] - 0s 1ms/step - loss: 0.5057 - accuracy: 0.7872\n",
      "Epoch 20/100\n",
      "25/25 [==============================] - 0s 954us/step - loss: 0.4949 - accuracy: 0.7935\n",
      "Epoch 21/100\n",
      "25/25 [==============================] - 0s 897us/step - loss: 0.4925 - accuracy: 0.8060\n",
      "Epoch 22/100\n",
      "25/25 [==============================] - 0s 888us/step - loss: 0.4883 - accuracy: 0.7922\n",
      "Epoch 23/100\n",
      "25/25 [==============================] - 0s 794us/step - loss: 0.4891 - accuracy: 0.8085\n",
      "Epoch 24/100\n",
      "25/25 [==============================] - 0s 980us/step - loss: 0.4936 - accuracy: 0.7972\n",
      "Epoch 25/100\n",
      "25/25 [==============================] - 0s 1ms/step - loss: 0.4778 - accuracy: 0.7835\n",
      "Epoch 26/100\n",
      "25/25 [==============================] - 0s 926us/step - loss: 0.5103 - accuracy: 0.7822\n",
      "Epoch 27/100\n",
      "25/25 [==============================] - 0s 487us/step - loss: 0.4783 - accuracy: 0.8010\n",
      "Epoch 28/100\n",
      "25/25 [==============================] - 0s 477us/step - loss: 0.5216 - accuracy: 0.7947\n",
      "Epoch 29/100\n",
      "25/25 [==============================] - 0s 504us/step - loss: 0.5233 - accuracy: 0.7822\n",
      "Epoch 30/100\n",
      "25/25 [==============================] - 0s 499us/step - loss: 0.5211 - accuracy: 0.7922\n",
      "Epoch 31/100\n",
      "25/25 [==============================] - 0s 551us/step - loss: 0.4772 - accuracy: 0.7922\n",
      "Epoch 32/100\n",
      "25/25 [==============================] - 0s 460us/step - loss: 0.4751 - accuracy: 0.7997\n",
      "Epoch 33/100\n",
      "25/25 [==============================] - 0s 475us/step - loss: 0.4997 - accuracy: 0.7960\n",
      "Epoch 34/100\n",
      "25/25 [==============================] - 0s 496us/step - loss: 0.4876 - accuracy: 0.7947\n",
      "Epoch 35/100\n",
      "25/25 [==============================] - 0s 563us/step - loss: 0.5036 - accuracy: 0.7822\n",
      "Epoch 36/100\n",
      "25/25 [==============================] - 0s 609us/step - loss: 0.4821 - accuracy: 0.7960\n",
      "Epoch 37/100\n",
      "25/25 [==============================] - 0s 638us/step - loss: 0.4415 - accuracy: 0.8148\n",
      "Epoch 38/100\n",
      "25/25 [==============================] - 0s 565us/step - loss: 0.4815 - accuracy: 0.8010\n",
      "Epoch 39/100\n",
      "25/25 [==============================] - 0s 528us/step - loss: 0.5243 - accuracy: 0.7785\n",
      "Epoch 40/100\n",
      "25/25 [==============================] - 0s 530us/step - loss: 0.4871 - accuracy: 0.7985\n",
      "Epoch 41/100\n",
      "25/25 [==============================] - 0s 533us/step - loss: 0.4484 - accuracy: 0.8135\n",
      "Epoch 42/100\n",
      "25/25 [==============================] - 0s 572us/step - loss: 0.4749 - accuracy: 0.7960\n",
      "Epoch 43/100\n",
      "25/25 [==============================] - 0s 577us/step - loss: 0.4557 - accuracy: 0.8098\n",
      "Epoch 44/100\n",
      "25/25 [==============================] - 0s 458us/step - loss: 0.4591 - accuracy: 0.7947\n",
      "Epoch 45/100\n",
      "25/25 [==============================] - 0s 482us/step - loss: 0.4906 - accuracy: 0.7910\n",
      "Epoch 46/100\n",
      "25/25 [==============================] - 0s 536us/step - loss: 0.4804 - accuracy: 0.7772\n",
      "Epoch 47/100\n",
      "25/25 [==============================] - 0s 560us/step - loss: 0.4720 - accuracy: 0.8010\n",
      "Epoch 48/100\n",
      "25/25 [==============================] - 0s 504us/step - loss: 0.4895 - accuracy: 0.7860\n",
      "Epoch 49/100\n",
      "25/25 [==============================] - 0s 476us/step - loss: 0.4952 - accuracy: 0.8073\n",
      "Epoch 50/100\n",
      "25/25 [==============================] - 0s 457us/step - loss: 0.4661 - accuracy: 0.8035\n",
      "Epoch 51/100\n",
      "25/25 [==============================] - 0s 448us/step - loss: 0.4666 - accuracy: 0.8060\n",
      "Epoch 52/100\n",
      "25/25 [==============================] - 0s 456us/step - loss: 0.4597 - accuracy: 0.7910\n",
      "Epoch 53/100\n",
      "25/25 [==============================] - 0s 471us/step - loss: 0.4623 - accuracy: 0.8048\n",
      "Epoch 54/100\n",
      "25/25 [==============================] - 0s 489us/step - loss: 0.4443 - accuracy: 0.8098\n",
      "Epoch 55/100\n",
      "25/25 [==============================] - 0s 497us/step - loss: 0.4442 - accuracy: 0.8060\n",
      "Epoch 56/100\n",
      "25/25 [==============================] - 0s 465us/step - loss: 0.4476 - accuracy: 0.8135\n",
      "Epoch 57/100\n",
      "25/25 [==============================] - 0s 522us/step - loss: 0.4747 - accuracy: 0.7835\n",
      "Epoch 58/100\n",
      "25/25 [==============================] - 0s 498us/step - loss: 0.4790 - accuracy: 0.8085\n",
      "Epoch 59/100\n",
      "25/25 [==============================] - 0s 563us/step - loss: 0.4477 - accuracy: 0.7985\n",
      "Epoch 60/100\n",
      "25/25 [==============================] - 0s 524us/step - loss: 0.4367 - accuracy: 0.8060\n",
      "Epoch 61/100\n",
      "25/25 [==============================] - 0s 517us/step - loss: 0.4832 - accuracy: 0.7985\n",
      "Epoch 62/100\n",
      "25/25 [==============================] - 0s 479us/step - loss: 0.4992 - accuracy: 0.7872\n",
      "Epoch 63/100\n",
      "25/25 [==============================] - 0s 540us/step - loss: 0.4506 - accuracy: 0.8135\n",
      "Epoch 64/100\n",
      "25/25 [==============================] - 0s 518us/step - loss: 0.4486 - accuracy: 0.8098\n",
      "Epoch 65/100\n",
      "25/25 [==============================] - 0s 545us/step - loss: 0.4430 - accuracy: 0.8148\n",
      "Epoch 66/100\n",
      "25/25 [==============================] - 0s 538us/step - loss: 0.4490 - accuracy: 0.7947\n",
      "Epoch 67/100\n",
      "25/25 [==============================] - 0s 530us/step - loss: 0.4449 - accuracy: 0.8023\n",
      "Epoch 68/100\n",
      "25/25 [==============================] - 0s 506us/step - loss: 0.4453 - accuracy: 0.8073\n",
      "Epoch 69/100\n",
      "25/25 [==============================] - 0s 3ms/step - loss: 0.4514 - accuracy: 0.8098\n",
      "Epoch 70/100\n",
      "25/25 [==============================] - 0s 964us/step - loss: 0.4299 - accuracy: 0.8085\n",
      "Epoch 71/100\n",
      "25/25 [==============================] - 0s 496us/step - loss: 0.4753 - accuracy: 0.7997\n",
      "Epoch 72/100\n",
      "25/25 [==============================] - 0s 435us/step - loss: 0.4646 - accuracy: 0.7935\n",
      "Epoch 73/100\n",
      "25/25 [==============================] - 0s 482us/step - loss: 0.4499 - accuracy: 0.8148\n",
      "Epoch 74/100\n",
      "25/25 [==============================] - 0s 430us/step - loss: 0.4447 - accuracy: 0.8085\n",
      "Epoch 75/100\n",
      "25/25 [==============================] - 0s 437us/step - loss: 0.4380 - accuracy: 0.8123\n",
      "Epoch 76/100\n",
      "25/25 [==============================] - 0s 453us/step - loss: 0.4329 - accuracy: 0.8073\n",
      "Epoch 77/100\n",
      "25/25 [==============================] - 0s 441us/step - loss: 0.4566 - accuracy: 0.7897\n",
      "Epoch 78/100\n",
      "25/25 [==============================] - 0s 450us/step - loss: 0.4339 - accuracy: 0.8160\n",
      "Epoch 79/100\n",
      "25/25 [==============================] - 0s 432us/step - loss: 0.4296 - accuracy: 0.8148\n",
      "Epoch 80/100\n",
      "25/25 [==============================] - 0s 479us/step - loss: 0.4401 - accuracy: 0.8148\n",
      "Epoch 81/100\n",
      "25/25 [==============================] - 0s 454us/step - loss: 0.4591 - accuracy: 0.7997\n",
      "Epoch 82/100\n",
      "25/25 [==============================] - 0s 460us/step - loss: 0.4484 - accuracy: 0.8198\n",
      "Epoch 83/100\n",
      "25/25 [==============================] - 0s 433us/step - loss: 0.4203 - accuracy: 0.8160\n",
      "Epoch 84/100\n",
      "25/25 [==============================] - 0s 445us/step - loss: 0.4360 - accuracy: 0.8198\n",
      "Epoch 85/100\n",
      "25/25 [==============================] - 0s 461us/step - loss: 0.4339 - accuracy: 0.8073\n",
      "Epoch 86/100\n",
      "25/25 [==============================] - 0s 435us/step - loss: 0.4525 - accuracy: 0.8073\n",
      "Epoch 87/100\n",
      "25/25 [==============================] - 0s 444us/step - loss: 0.4257 - accuracy: 0.8060\n",
      "Epoch 88/100\n",
      "25/25 [==============================] - 0s 467us/step - loss: 0.4421 - accuracy: 0.8098\n",
      "Epoch 89/100\n",
      "25/25 [==============================] - 0s 458us/step - loss: 0.4539 - accuracy: 0.8035\n",
      "Epoch 90/100\n",
      "25/25 [==============================] - 0s 466us/step - loss: 0.4316 - accuracy: 0.8160\n",
      "Epoch 91/100\n",
      "25/25 [==============================] - 0s 441us/step - loss: 0.4337 - accuracy: 0.8060\n",
      "Epoch 92/100\n",
      "25/25 [==============================] - 0s 451us/step - loss: 0.4449 - accuracy: 0.8010\n",
      "Epoch 93/100\n",
      "25/25 [==============================] - 0s 461us/step - loss: 0.5156 - accuracy: 0.7835\n",
      "Epoch 94/100\n",
      "25/25 [==============================] - 0s 461us/step - loss: 0.4473 - accuracy: 0.8148\n",
      "Epoch 95/100\n",
      "25/25 [==============================] - 0s 453us/step - loss: 0.4773 - accuracy: 0.7835\n",
      "Epoch 96/100\n",
      "25/25 [==============================] - 0s 481us/step - loss: 0.4436 - accuracy: 0.8048\n",
      "Epoch 97/100\n",
      "25/25 [==============================] - 0s 518us/step - loss: 0.4447 - accuracy: 0.8110\n",
      "Epoch 98/100\n",
      "25/25 [==============================] - 0s 526us/step - loss: 0.4494 - accuracy: 0.7985\n",
      "Epoch 99/100\n",
      "25/25 [==============================] - 0s 552us/step - loss: 0.4543 - accuracy: 0.8023\n",
      "Epoch 100/100\n",
      "25/25 [==============================] - 0s 665us/step - loss: 0.4439 - accuracy: 0.8073\n"
     ]
    },
    {
     "data": {
      "text/plain": [
       "<keras.src.callbacks.History at 0x29cb6ba10>"
      ]
     },
     "execution_count": 267,
     "metadata": {},
     "output_type": "execute_result"
    }
   ],
   "source": [
    "# treina o modelo\n",
    "# atualiza o modelo após processar 32 lotes batch_size\n",
    "model.fit(X_train, y_train, epochs=100, batch_size=32)"
   ]
  },
  {
   "cell_type": "code",
   "execution_count": 268,
   "metadata": {},
   "outputs": [
    {
     "name": "stdout",
     "output_type": "stream",
     "text": [
      "7/7 [==============================] - 0s 946us/step\n"
     ]
    }
   ],
   "source": [
    "# Fazendo a previsão do conjunto de teste\n",
    "y_pred_RNA = model.predict(X_test)\n",
    "y_pred_RNA = le.inverse_transform(y_pred_RNA.argmax(axis=1))"
   ]
  },
  {
   "cell_type": "code",
   "execution_count": 269,
   "metadata": {},
   "outputs": [
    {
     "name": "stdout",
     "output_type": "stream",
     "text": [
      "              precision    recall  f1-score   support\n",
      "\n",
      "           0       0.80      1.00      0.89       159\n",
      "           1       0.00      0.00      0.00        41\n",
      "\n",
      "    accuracy                           0.80       200\n",
      "   macro avg       0.40      0.50      0.44       200\n",
      "weighted avg       0.63      0.80      0.70       200\n",
      "\n"
     ]
    },
    {
     "name": "stderr",
     "output_type": "stream",
     "text": [
      "/Users/lacienemelo/Documents/developed-software/python-dev/virtual-environment/lib/python3.11/site-packages/sklearn/metrics/_classification.py:1469: UndefinedMetricWarning: Precision and F-score are ill-defined and being set to 0.0 in labels with no predicted samples. Use `zero_division` parameter to control this behavior.\n",
      "  _warn_prf(average, modifier, msg_start, len(result))\n",
      "/Users/lacienemelo/Documents/developed-software/python-dev/virtual-environment/lib/python3.11/site-packages/sklearn/metrics/_classification.py:1469: UndefinedMetricWarning: Precision and F-score are ill-defined and being set to 0.0 in labels with no predicted samples. Use `zero_division` parameter to control this behavior.\n",
      "  _warn_prf(average, modifier, msg_start, len(result))\n",
      "/Users/lacienemelo/Documents/developed-software/python-dev/virtual-environment/lib/python3.11/site-packages/sklearn/metrics/_classification.py:1469: UndefinedMetricWarning: Precision and F-score are ill-defined and being set to 0.0 in labels with no predicted samples. Use `zero_division` parameter to control this behavior.\n",
      "  _warn_prf(average, modifier, msg_start, len(result))\n"
     ]
    }
   ],
   "source": [
    "# relatório de desempenho do modelo RNA\n",
    "print(classification_report(y_test, y_pred_RNA))"
   ]
  },
  {
   "cell_type": "code",
   "execution_count": 270,
   "metadata": {},
   "outputs": [
    {
     "data": {
      "text/plain": [
       "<sklearn.metrics._plot.confusion_matrix.ConfusionMatrixDisplay at 0x29dce0890>"
      ]
     },
     "execution_count": 270,
     "metadata": {},
     "output_type": "execute_result"
    },
    {
     "data": {
      "image/png": "[encoded data removed]",
      "text/plain": [
       "<Figure size 640x480 with 2 Axes>"
      ]
     },
     "metadata": {},
     "output_type": "display_data"
    }
   ],
   "source": [
    "# Crie a matriz de confusão\n",
    "confMatrixRNA = ConfusionMatrixDisplay(confusion_matrix=confusion_matrix(y_test, y_pred_RNA))\n",
    "confMatrixRNA.plot()"
   ]
  }
 ],
 "metadata": {
  "kernelspec": {
   "display_name": "virtual-environment",
   "language": "python",
   "name": "virtual-environment"
  },
  "language_info": {
   "codemirror_mode": {
    "name": "ipython",
    "version": 3
   },
   "file_extension": ".py",
   "mimetype": "text/x-python",
   "name": "python",
   "nbconvert_exporter": "python",
   "pygments_lexer": "ipython3",
   "version": "3.11.4"
  }
 },
 "nbformat": 4,
 "nbformat_minor": 2
}
